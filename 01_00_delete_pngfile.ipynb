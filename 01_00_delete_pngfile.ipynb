{
 "cells": [
  {
   "attachments": {},
   "cell_type": "markdown",
   "metadata": {},
   "source": [
    "# 01_03_make_fits_summary"
   ]
  },
  {
   "attachments": {},
   "cell_type": "markdown",
   "metadata": {},
   "source": [
    "## 필요한 모듈\n",
    "\n",
    "이 프로젝트를 위해서는 아래의 모듈이 필요하다. \n",
    "\n",
    "> numpy, pandas, matplotlib, astropy, version_information"
   ]
  },
  {
   "attachments": {},
   "cell_type": "markdown",
   "metadata": {},
   "source": [
    "### 모듈 설치\n",
    "\n",
    "1. 콘솔 창에서 모듈을 설치할 때는 아래와 같은 형식으로 입력하면 된다.\n",
    "\n",
    ">pip install module_name==version\n",
    "\n",
    ">conda install module_name==version\n",
    "\n",
    "2. 주피터 노트북(코랩 포함)에 설치 할 때는 아래의 셀을 실행해서 실행되지 않은 모듈을 설치할 수 있다. (pip 기준) 만약 아나콘다 환경을 사용한다면 7행을 콘다 설치 명령어에 맞게 수정하면 된다."
   ]
  },
  {
   "cell_type": "code",
   "execution_count": null,
   "metadata": {},
   "outputs": [
    {
     "name": "stdout",
     "output_type": "stream",
     "text": [
      "Collecting matplotlib==3.2\n",
      "  Downloading matplotlib-3.2.0-cp38-cp38-manylinux1_x86_64.whl (12.4 MB)\n",
      "\u001b[2K     \u001b[90m━━━━━━━━━━━━━━━━━━━━━━━━━━━━━━━━━━━━━━━━\u001b[0m \u001b[32m12.4/12.4 MB\u001b[0m \u001b[31m10.5 MB/s\u001b[0m eta \u001b[36m0:00:00\u001b[0m00:01\u001b[0m00:01\u001b[0m\n",
      "\u001b[?25hCollecting numpy==1.23\n",
      "  Downloading numpy-1.23.0-cp38-cp38-manylinux_2_17_x86_64.manylinux2014_x86_64.whl (17.1 MB)\n",
      "\u001b[2K     \u001b[90m━━━━━━━━━━━━━━━━━━━━━━━━━━━━━━━━━━━━━━━━\u001b[0m \u001b[32m17.1/17.1 MB\u001b[0m \u001b[31m10.5 MB/s\u001b[0m eta \u001b[36m0:00:00\u001b[0m00:01\u001b[0m00:01\u001b[0m\n",
      "\u001b[?25hRequirement already satisfied: cycler>=0.10 in /home/guitar79/anaconda3/envs/MODIS_AOD_Python_env/lib/python3.8/site-packages (from matplotlib==3.2) (0.11.0)\n",
      "Requirement already satisfied: kiwisolver>=1.0.1 in /home/guitar79/anaconda3/envs/MODIS_AOD_Python_env/lib/python3.8/site-packages (from matplotlib==3.2) (1.4.4)\n",
      "Requirement already satisfied: pyparsing!=2.0.4,!=2.1.2,!=2.1.6,>=2.0.1 in /home/guitar79/anaconda3/envs/MODIS_AOD_Python_env/lib/python3.8/site-packages (from matplotlib==3.2) (3.0.9)\n",
      "Requirement already satisfied: python-dateutil>=2.1 in /home/guitar79/anaconda3/envs/MODIS_AOD_Python_env/lib/python3.8/site-packages (from matplotlib==3.2) (2.8.2)\n",
      "Requirement already satisfied: six>=1.5 in /home/guitar79/anaconda3/envs/MODIS_AOD_Python_env/lib/python3.8/site-packages (from python-dateutil>=2.1->matplotlib==3.2) (1.16.0)\n",
      "Installing collected packages: numpy, matplotlib\n",
      "  Attempting uninstall: numpy\n",
      "    Found existing installation: numpy 1.22.3\n",
      "    Uninstalling numpy-1.22.3:\n",
      "      Successfully uninstalled numpy-1.22.3\n"
     ]
    }
   ],
   "source": [
    "#import sys\n",
    "#%pip install matplotlib==3.2 numpy==1.23"
   ]
  },
  {
   "attachments": {},
   "cell_type": "markdown",
   "metadata": {},
   "source": [
    "### 모듈 버전 확인\n",
    "\n",
    "아래 셀을 실행하면 이 노트북을 실행한 파이썬 및 관련 모듈의 버전을 확인할 수 있다."
   ]
  },
  {
   "cell_type": "code",
   "execution_count": 2,
   "metadata": {},
   "outputs": [
    {
     "name": "stdout",
     "output_type": "stream",
     "text": [
      "**** module numpy is installed\n",
      "**** module pandas is installed\n",
      "**** module matplotlib is installed\n",
      "**** module pyhdf is installed\n",
      "**** module netCDF4 is installed\n",
      "**** module version_information is installed\n",
      "This notebook was generated at 2023-09-23 01:13:21 (KST = GMT+0900) \n",
      "0 Python     3.8.16 64bit [GCC 11.2.0]\n",
      "1 IPython    8.12.0\n",
      "2 OS         Linux 5.15.0 84 generic x86_64 with glibc2.17\n",
      "3 numpy      1.23.0\n",
      "4 pandas     2.0.2\n",
      "5 matplotlib 3.2.0\n",
      "6 pyhdf      0.10.5\n",
      "7 netCDF4    1.6.4\n",
      "8 basemap    1.3.7\n",
      "9 basemap-data 1.3.2\n",
      "10 basemap-data-hires 1.3.2\n",
      "11 version_information 1.0.4\n"
     ]
    }
   ],
   "source": [
    "import importlib, sys, subprocess\n",
    "packages = \"numpy, pandas, matplotlib, pyhdf, netCDF4, basemap, basemap-data, basemap-data-hires, version_information\" # required modules\n",
    "pkgs = packages.split(\", \")\n",
    "for pkg in pkgs :\n",
    "    if not importlib.util.find_spec(pkg):\n",
    "        #print(f\"**** module {pkg} is not installed\")\n",
    "        subprocess.check_call([sys.executable, '-m', 'pip', 'install', pkg, '-q'])\n",
    "    else: \n",
    "        print(f\"**** module {pkg} is installed\")\n",
    "\n",
    "%load_ext version_information\n",
    "import time\n",
    "now = time.strftime(\"%Y-%m-%d %H:%M:%S (%Z = GMT%z)\")\n",
    "print(f\"This notebook was generated at {now} \")\n",
    "\n",
    "vv = %version_information {packages}\n",
    "for i, pkg in enumerate(vv.packages):\n",
    "    print(f\"{i} {pkg[0]:10s} {pkg[1]:s}\")"
   ]
  },
  {
   "attachments": {},
   "cell_type": "markdown",
   "metadata": {},
   "source": [
    "### import modules"
   ]
  },
  {
   "cell_type": "code",
   "execution_count": 3,
   "metadata": {},
   "outputs": [],
   "source": [
    "#%%\n",
    "from glob import glob\n",
    "from pathlib import Path, PosixPath, WindowsPath\n",
    "import os\n",
    "from datetime import datetime\n",
    "import shutil\n",
    "\n",
    "import _Python_utilities\n",
    "import _MODIS_AOD_utilities"
   ]
  },
  {
   "cell_type": "code",
   "execution_count": 3,
   "metadata": {},
   "outputs": [
    {
     "ename": "NameError",
     "evalue": "name '__file__' is not defined",
     "output_type": "error",
     "traceback": [
      "\u001b[0;31m---------------------------------------------------------------------------\u001b[0m",
      "\u001b[0;31mNameError\u001b[0m                                 Traceback (most recent call last)",
      "\u001b[1;32m/mnt/homes/parksparks/Drive/KBox/Github/MODIS_AOD_Python/01_00_delete_pngfiel.ipynb Cell 9\u001b[0m line \u001b[0;36m5\n\u001b[1;32m      <a href='vscode-notebook-cell:/mnt/homes/parksparks/Drive/KBox/Github/MODIS_AOD_Python/01_00_delete_pngfiel.ipynb#X26sZmlsZQ%3D%3D?line=0'>1</a>\u001b[0m \u001b[39m#%%\u001b[39;00m\n\u001b[1;32m      <a href='vscode-notebook-cell:/mnt/homes/parksparks/Drive/KBox/Github/MODIS_AOD_Python/01_00_delete_pngfiel.ipynb#X26sZmlsZQ%3D%3D?line=1'>2</a>\u001b[0m \u001b[39m#######################################################\u001b[39;00m\n\u001b[1;32m      <a href='vscode-notebook-cell:/mnt/homes/parksparks/Drive/KBox/Github/MODIS_AOD_Python/01_00_delete_pngfiel.ipynb#X26sZmlsZQ%3D%3D?line=2'>3</a>\u001b[0m \u001b[39m# for log file\u001b[39;00m\n\u001b[1;32m      <a href='vscode-notebook-cell:/mnt/homes/parksparks/Drive/KBox/Github/MODIS_AOD_Python/01_00_delete_pngfiel.ipynb#X26sZmlsZQ%3D%3D?line=3'>4</a>\u001b[0m log_dir \u001b[39m=\u001b[39m \u001b[39m\"\u001b[39m\u001b[39mlogs/\u001b[39m\u001b[39m\"\u001b[39m\n\u001b[0;32m----> <a href='vscode-notebook-cell:/mnt/homes/parksparks/Drive/KBox/Github/MODIS_AOD_Python/01_00_delete_pngfiel.ipynb#X26sZmlsZQ%3D%3D?line=4'>5</a>\u001b[0m log_file \u001b[39m=\u001b[39m \u001b[39m\"\u001b[39m\u001b[39m{}\u001b[39;00m\u001b[39m{}\u001b[39;00m\u001b[39m.log\u001b[39m\u001b[39m\"\u001b[39m\u001b[39m.\u001b[39mformat(log_dir, os\u001b[39m.\u001b[39mpath\u001b[39m.\u001b[39mbasename(\u001b[39m__file__\u001b[39;49m)[:\u001b[39m-\u001b[39m\u001b[39m3\u001b[39m])\n\u001b[1;32m      <a href='vscode-notebook-cell:/mnt/homes/parksparks/Drive/KBox/Github/MODIS_AOD_Python/01_00_delete_pngfiel.ipynb#X26sZmlsZQ%3D%3D?line=5'>6</a>\u001b[0m err_log_file \u001b[39m=\u001b[39m \u001b[39m\"\u001b[39m\u001b[39m{}\u001b[39;00m\u001b[39m{}\u001b[39;00m\u001b[39m_err.log\u001b[39m\u001b[39m\"\u001b[39m\u001b[39m.\u001b[39mformat(log_dir, os\u001b[39m.\u001b[39mpath\u001b[39m.\u001b[39mbasename(\u001b[39m__file__\u001b[39m)[:\u001b[39m-\u001b[39m\u001b[39m3\u001b[39m])\n\u001b[1;32m      <a href='vscode-notebook-cell:/mnt/homes/parksparks/Drive/KBox/Github/MODIS_AOD_Python/01_00_delete_pngfiel.ipynb#X26sZmlsZQ%3D%3D?line=6'>7</a>\u001b[0m \u001b[39mprint\u001b[39m (\u001b[39m\"\u001b[39m\u001b[39mlog_file: \u001b[39m\u001b[39m{}\u001b[39;00m\u001b[39m\"\u001b[39m\u001b[39m.\u001b[39mformat(log_file))\n",
      "\u001b[0;31mNameError\u001b[0m: name '__file__' is not defined"
     ]
    }
   ],
   "source": [
    "# #%%\n",
    "# #######################################################\n",
    "# # for log file\n",
    "# log_dir = \"logs/\"\n",
    "# log_file = \"{}{}.log\".format(log_dir, os.path.basename(__file__)[:-3])\n",
    "# err_log_file = \"{}{}_err.log\".format(log_dir, os.path.basename(__file__)[:-3])\n",
    "# print (\"log_file: {}\".format(log_file))\n",
    "# print (\"err_log_file: {}\".format(err_log_file))\n",
    "# if not os.path.exists('{0}'.format(log_dir)):\n",
    "#     os.makedirs('{0}'.format(log_dir))\n",
    "# #######################################################"
   ]
  },
  {
   "cell_type": "code",
   "execution_count": 4,
   "metadata": {},
   "outputs": [
    {
     "name": "stdout",
     "output_type": "stream",
     "text": [
      "len(DOINGDIRs):  24\n"
     ]
    }
   ],
   "source": [
    "#%%\n",
    "#######################################################\n",
    "# read all files in base directory for processing\n",
    "BASEDIR = Path(\"/mnt/Rdata/MODIS_AOD/Aerosol/\") \n",
    "###\n",
    "DOINGDIR = Path(BASEDIR/ \"MOD04_3K\")\n",
    "\n",
    "DOINGDIRs = sorted(_Python_utilities.getFullnameListOfsubDirs(DOINGDIR))\n",
    "#print (\"DOINGDIRs: \", format(DOINGDIRs))\n",
    "print (\"len(DOINGDIRs): \", format(len(DOINGDIRs)))\n",
    "#######################################################"
   ]
  },
  {
   "cell_type": "code",
   "execution_count": 5,
   "metadata": {},
   "outputs": [
    {
     "name": "stdout",
     "output_type": "stream",
     "text": [
      "/mnt/Rdata/MODIS_AOD/Aerosol/MOD04_3K/2000\n",
      "[PosixPath('/mnt/Rdata/MODIS_AOD/Aerosol/MOD04_3K/2000/055.csv'), PosixPath('/mnt/Rdata/MODIS_AOD/Aerosol/MOD04_3K/2000/056.csv'), PosixPath('/mnt/Rdata/MODIS_AOD/Aerosol/MOD04_3K/2000/057.csv'), PosixPath('/mnt/Rdata/MODIS_AOD/Aerosol/MOD04_3K/2000/058.csv'), PosixPath('/mnt/Rdata/MODIS_AOD/Aerosol/MOD04_3K/2000/059.csv'), PosixPath('/mnt/Rdata/MODIS_AOD/Aerosol/MOD04_3K/2000/060.csv'), PosixPath('/mnt/Rdata/MODIS_AOD/Aerosol/MOD04_3K/2000/061.csv'), PosixPath('/mnt/Rdata/MODIS_AOD/Aerosol/MOD04_3K/2000/062.csv'), PosixPath('/mnt/Rdata/MODIS_AOD/Aerosol/MOD04_3K/2000/063.csv'), PosixPath('/mnt/Rdata/MODIS_AOD/Aerosol/MOD04_3K/2000/064.csv'), PosixPath('/mnt/Rdata/MODIS_AOD/Aerosol/MOD04_3K/2000/065.csv'), PosixPath('/mnt/Rdata/MODIS_AOD/Aerosol/MOD04_3K/2000/066.csv'), PosixPath('/mnt/Rdata/MODIS_AOD/Aerosol/MOD04_3K/2000/067.csv'), PosixPath('/mnt/Rdata/MODIS_AOD/Aerosol/MOD04_3K/2000/068.csv'), PosixPath('/mnt/Rdata/MODIS_AOD/Aerosol/MOD04_3K/2000/069.csv'), PosixPath('/mnt/Rdata/MODIS_AOD/Aerosol/MOD04_3K/2000/070.csv'), PosixPath('/mnt/Rdata/MODIS_AOD/Aerosol/MOD04_3K/2000/071.csv'), PosixPath('/mnt/Rdata/MODIS_AOD/Aerosol/MOD04_3K/2000/072.csv'), PosixPath('/mnt/Rdata/MODIS_AOD/Aerosol/MOD04_3K/2000/073.csv'), PosixPath('/mnt/Rdata/MODIS_AOD/Aerosol/MOD04_3K/2000/074.csv'), PosixPath('/mnt/Rdata/MODIS_AOD/Aerosol/MOD04_3K/2000/075.csv'), PosixPath('/mnt/Rdata/MODIS_AOD/Aerosol/MOD04_3K/2000/076.csv'), PosixPath('/mnt/Rdata/MODIS_AOD/Aerosol/MOD04_3K/2000/077.csv'), PosixPath('/mnt/Rdata/MODIS_AOD/Aerosol/MOD04_3K/2000/078.csv'), PosixPath('/mnt/Rdata/MODIS_AOD/Aerosol/MOD04_3K/2000/079.csv'), PosixPath('/mnt/Rdata/MODIS_AOD/Aerosol/MOD04_3K/2000/080.csv'), PosixPath('/mnt/Rdata/MODIS_AOD/Aerosol/MOD04_3K/2000/081.csv'), PosixPath('/mnt/Rdata/MODIS_AOD/Aerosol/MOD04_3K/2000/082.csv'), PosixPath('/mnt/Rdata/MODIS_AOD/Aerosol/MOD04_3K/2000/083.csv'), PosixPath('/mnt/Rdata/MODIS_AOD/Aerosol/MOD04_3K/2000/084.csv'), PosixPath('/mnt/Rdata/MODIS_AOD/Aerosol/MOD04_3K/2000/085.csv'), PosixPath('/mnt/Rdata/MODIS_AOD/Aerosol/MOD04_3K/2000/086.csv'), PosixPath('/mnt/Rdata/MODIS_AOD/Aerosol/MOD04_3K/2000/087.csv'), PosixPath('/mnt/Rdata/MODIS_AOD/Aerosol/MOD04_3K/2000/088.csv'), PosixPath('/mnt/Rdata/MODIS_AOD/Aerosol/MOD04_3K/2000/089.csv'), PosixPath('/mnt/Rdata/MODIS_AOD/Aerosol/MOD04_3K/2000/090.csv'), PosixPath('/mnt/Rdata/MODIS_AOD/Aerosol/MOD04_3K/2000/091.csv'), PosixPath('/mnt/Rdata/MODIS_AOD/Aerosol/MOD04_3K/2000/092.csv'), PosixPath('/mnt/Rdata/MODIS_AOD/Aerosol/MOD04_3K/2000/093.csv'), PosixPath('/mnt/Rdata/MODIS_AOD/Aerosol/MOD04_3K/2000/094.csv'), PosixPath('/mnt/Rdata/MODIS_AOD/Aerosol/MOD04_3K/2000/095.csv'), PosixPath('/mnt/Rdata/MODIS_AOD/Aerosol/MOD04_3K/2000/096.csv'), PosixPath('/mnt/Rdata/MODIS_AOD/Aerosol/MOD04_3K/2000/097.csv'), PosixPath('/mnt/Rdata/MODIS_AOD/Aerosol/MOD04_3K/2000/098.csv'), PosixPath('/mnt/Rdata/MODIS_AOD/Aerosol/MOD04_3K/2000/099.csv'), PosixPath('/mnt/Rdata/MODIS_AOD/Aerosol/MOD04_3K/2000/100.csv'), PosixPath('/mnt/Rdata/MODIS_AOD/Aerosol/MOD04_3K/2000/101.csv'), PosixPath('/mnt/Rdata/MODIS_AOD/Aerosol/MOD04_3K/2000/102.csv'), PosixPath('/mnt/Rdata/MODIS_AOD/Aerosol/MOD04_3K/2000/103.csv'), PosixPath('/mnt/Rdata/MODIS_AOD/Aerosol/MOD04_3K/2000/104.csv'), PosixPath('/mnt/Rdata/MODIS_AOD/Aerosol/MOD04_3K/2000/105.csv'), PosixPath('/mnt/Rdata/MODIS_AOD/Aerosol/MOD04_3K/2000/106.csv'), PosixPath('/mnt/Rdata/MODIS_AOD/Aerosol/MOD04_3K/2000/107.csv'), PosixPath('/mnt/Rdata/MODIS_AOD/Aerosol/MOD04_3K/2000/108.csv'), PosixPath('/mnt/Rdata/MODIS_AOD/Aerosol/MOD04_3K/2000/109.csv'), PosixPath('/mnt/Rdata/MODIS_AOD/Aerosol/MOD04_3K/2000/110.csv'), PosixPath('/mnt/Rdata/MODIS_AOD/Aerosol/MOD04_3K/2000/111.csv'), PosixPath('/mnt/Rdata/MODIS_AOD/Aerosol/MOD04_3K/2000/112.csv'), PosixPath('/mnt/Rdata/MODIS_AOD/Aerosol/MOD04_3K/2000/113.csv'), PosixPath('/mnt/Rdata/MODIS_AOD/Aerosol/MOD04_3K/2000/114.csv'), PosixPath('/mnt/Rdata/MODIS_AOD/Aerosol/MOD04_3K/2000/115.csv'), PosixPath('/mnt/Rdata/MODIS_AOD/Aerosol/MOD04_3K/2000/116.csv'), PosixPath('/mnt/Rdata/MODIS_AOD/Aerosol/MOD04_3K/2000/117.csv'), PosixPath('/mnt/Rdata/MODIS_AOD/Aerosol/MOD04_3K/2000/118.csv'), PosixPath('/mnt/Rdata/MODIS_AOD/Aerosol/MOD04_3K/2000/119.csv'), PosixPath('/mnt/Rdata/MODIS_AOD/Aerosol/MOD04_3K/2000/120.csv'), PosixPath('/mnt/Rdata/MODIS_AOD/Aerosol/MOD04_3K/2000/121.csv'), PosixPath('/mnt/Rdata/MODIS_AOD/Aerosol/MOD04_3K/2000/122.csv'), PosixPath('/mnt/Rdata/MODIS_AOD/Aerosol/MOD04_3K/2000/123.csv'), PosixPath('/mnt/Rdata/MODIS_AOD/Aerosol/MOD04_3K/2000/124.csv'), PosixPath('/mnt/Rdata/MODIS_AOD/Aerosol/MOD04_3K/2000/125.csv'), PosixPath('/mnt/Rdata/MODIS_AOD/Aerosol/MOD04_3K/2000/126.csv'), PosixPath('/mnt/Rdata/MODIS_AOD/Aerosol/MOD04_3K/2000/127.csv'), PosixPath('/mnt/Rdata/MODIS_AOD/Aerosol/MOD04_3K/2000/128.csv'), PosixPath('/mnt/Rdata/MODIS_AOD/Aerosol/MOD04_3K/2000/129.csv'), PosixPath('/mnt/Rdata/MODIS_AOD/Aerosol/MOD04_3K/2000/130.csv'), PosixPath('/mnt/Rdata/MODIS_AOD/Aerosol/MOD04_3K/2000/131.csv'), PosixPath('/mnt/Rdata/MODIS_AOD/Aerosol/MOD04_3K/2000/132.csv'), PosixPath('/mnt/Rdata/MODIS_AOD/Aerosol/MOD04_3K/2000/133.csv'), PosixPath('/mnt/Rdata/MODIS_AOD/Aerosol/MOD04_3K/2000/134.csv'), PosixPath('/mnt/Rdata/MODIS_AOD/Aerosol/MOD04_3K/2000/135.csv'), PosixPath('/mnt/Rdata/MODIS_AOD/Aerosol/MOD04_3K/2000/136.csv'), PosixPath('/mnt/Rdata/MODIS_AOD/Aerosol/MOD04_3K/2000/137.csv'), PosixPath('/mnt/Rdata/MODIS_AOD/Aerosol/MOD04_3K/2000/138.csv'), PosixPath('/mnt/Rdata/MODIS_AOD/Aerosol/MOD04_3K/2000/139.csv'), PosixPath('/mnt/Rdata/MODIS_AOD/Aerosol/MOD04_3K/2000/140.csv'), PosixPath('/mnt/Rdata/MODIS_AOD/Aerosol/MOD04_3K/2000/141.csv'), PosixPath('/mnt/Rdata/MODIS_AOD/Aerosol/MOD04_3K/2000/142.csv'), PosixPath('/mnt/Rdata/MODIS_AOD/Aerosol/MOD04_3K/2000/143.csv'), PosixPath('/mnt/Rdata/MODIS_AOD/Aerosol/MOD04_3K/2000/144.csv'), PosixPath('/mnt/Rdata/MODIS_AOD/Aerosol/MOD04_3K/2000/145.csv'), PosixPath('/mnt/Rdata/MODIS_AOD/Aerosol/MOD04_3K/2000/146.csv'), PosixPath('/mnt/Rdata/MODIS_AOD/Aerosol/MOD04_3K/2000/147.csv'), PosixPath('/mnt/Rdata/MODIS_AOD/Aerosol/MOD04_3K/2000/148.csv'), PosixPath('/mnt/Rdata/MODIS_AOD/Aerosol/MOD04_3K/2000/149.csv'), PosixPath('/mnt/Rdata/MODIS_AOD/Aerosol/MOD04_3K/2000/150.csv'), PosixPath('/mnt/Rdata/MODIS_AOD/Aerosol/MOD04_3K/2000/151.csv'), PosixPath('/mnt/Rdata/MODIS_AOD/Aerosol/MOD04_3K/2000/152.csv'), PosixPath('/mnt/Rdata/MODIS_AOD/Aerosol/MOD04_3K/2000/153.csv'), PosixPath('/mnt/Rdata/MODIS_AOD/Aerosol/MOD04_3K/2000/154.csv'), PosixPath('/mnt/Rdata/MODIS_AOD/Aerosol/MOD04_3K/2000/155.csv'), PosixPath('/mnt/Rdata/MODIS_AOD/Aerosol/MOD04_3K/2000/156.csv'), PosixPath('/mnt/Rdata/MODIS_AOD/Aerosol/MOD04_3K/2000/157.csv'), PosixPath('/mnt/Rdata/MODIS_AOD/Aerosol/MOD04_3K/2000/158.csv'), PosixPath('/mnt/Rdata/MODIS_AOD/Aerosol/MOD04_3K/2000/159.csv'), PosixPath('/mnt/Rdata/MODIS_AOD/Aerosol/MOD04_3K/2000/160.csv'), PosixPath('/mnt/Rdata/MODIS_AOD/Aerosol/MOD04_3K/2000/161.csv'), PosixPath('/mnt/Rdata/MODIS_AOD/Aerosol/MOD04_3K/2000/162.csv'), PosixPath('/mnt/Rdata/MODIS_AOD/Aerosol/MOD04_3K/2000/163.csv'), PosixPath('/mnt/Rdata/MODIS_AOD/Aerosol/MOD04_3K/2000/164.csv'), PosixPath('/mnt/Rdata/MODIS_AOD/Aerosol/MOD04_3K/2000/165.csv'), PosixPath('/mnt/Rdata/MODIS_AOD/Aerosol/MOD04_3K/2000/166.csv'), PosixPath('/mnt/Rdata/MODIS_AOD/Aerosol/MOD04_3K/2000/167.csv'), PosixPath('/mnt/Rdata/MODIS_AOD/Aerosol/MOD04_3K/2000/168.csv'), PosixPath('/mnt/Rdata/MODIS_AOD/Aerosol/MOD04_3K/2000/169.csv'), PosixPath('/mnt/Rdata/MODIS_AOD/Aerosol/MOD04_3K/2000/170.csv'), PosixPath('/mnt/Rdata/MODIS_AOD/Aerosol/MOD04_3K/2000/171.csv'), PosixPath('/mnt/Rdata/MODIS_AOD/Aerosol/MOD04_3K/2000/172.csv'), PosixPath('/mnt/Rdata/MODIS_AOD/Aerosol/MOD04_3K/2000/173.csv'), PosixPath('/mnt/Rdata/MODIS_AOD/Aerosol/MOD04_3K/2000/174.csv'), PosixPath('/mnt/Rdata/MODIS_AOD/Aerosol/MOD04_3K/2000/175.csv'), PosixPath('/mnt/Rdata/MODIS_AOD/Aerosol/MOD04_3K/2000/176.csv'), PosixPath('/mnt/Rdata/MODIS_AOD/Aerosol/MOD04_3K/2000/177.csv'), PosixPath('/mnt/Rdata/MODIS_AOD/Aerosol/MOD04_3K/2000/178.csv'), PosixPath('/mnt/Rdata/MODIS_AOD/Aerosol/MOD04_3K/2000/179.csv'), PosixPath('/mnt/Rdata/MODIS_AOD/Aerosol/MOD04_3K/2000/180.csv'), PosixPath('/mnt/Rdata/MODIS_AOD/Aerosol/MOD04_3K/2000/181.csv'), PosixPath('/mnt/Rdata/MODIS_AOD/Aerosol/MOD04_3K/2000/182.csv'), PosixPath('/mnt/Rdata/MODIS_AOD/Aerosol/MOD04_3K/2000/183.csv'), PosixPath('/mnt/Rdata/MODIS_AOD/Aerosol/MOD04_3K/2000/184.csv'), PosixPath('/mnt/Rdata/MODIS_AOD/Aerosol/MOD04_3K/2000/185.csv'), PosixPath('/mnt/Rdata/MODIS_AOD/Aerosol/MOD04_3K/2000/186.csv'), PosixPath('/mnt/Rdata/MODIS_AOD/Aerosol/MOD04_3K/2000/187.csv'), PosixPath('/mnt/Rdata/MODIS_AOD/Aerosol/MOD04_3K/2000/188.csv'), PosixPath('/mnt/Rdata/MODIS_AOD/Aerosol/MOD04_3K/2000/189.csv'), PosixPath('/mnt/Rdata/MODIS_AOD/Aerosol/MOD04_3K/2000/190.csv'), PosixPath('/mnt/Rdata/MODIS_AOD/Aerosol/MOD04_3K/2000/191.csv'), PosixPath('/mnt/Rdata/MODIS_AOD/Aerosol/MOD04_3K/2000/192.csv'), PosixPath('/mnt/Rdata/MODIS_AOD/Aerosol/MOD04_3K/2000/193.csv'), PosixPath('/mnt/Rdata/MODIS_AOD/Aerosol/MOD04_3K/2000/194.csv'), PosixPath('/mnt/Rdata/MODIS_AOD/Aerosol/MOD04_3K/2000/195.csv'), PosixPath('/mnt/Rdata/MODIS_AOD/Aerosol/MOD04_3K/2000/196.csv'), PosixPath('/mnt/Rdata/MODIS_AOD/Aerosol/MOD04_3K/2000/197.csv'), PosixPath('/mnt/Rdata/MODIS_AOD/Aerosol/MOD04_3K/2000/198.csv'), PosixPath('/mnt/Rdata/MODIS_AOD/Aerosol/MOD04_3K/2000/199.csv'), PosixPath('/mnt/Rdata/MODIS_AOD/Aerosol/MOD04_3K/2000/200.csv'), PosixPath('/mnt/Rdata/MODIS_AOD/Aerosol/MOD04_3K/2000/201.csv'), PosixPath('/mnt/Rdata/MODIS_AOD/Aerosol/MOD04_3K/2000/202.csv'), PosixPath('/mnt/Rdata/MODIS_AOD/Aerosol/MOD04_3K/2000/203.csv'), PosixPath('/mnt/Rdata/MODIS_AOD/Aerosol/MOD04_3K/2000/204.csv'), PosixPath('/mnt/Rdata/MODIS_AOD/Aerosol/MOD04_3K/2000/205.csv'), PosixPath('/mnt/Rdata/MODIS_AOD/Aerosol/MOD04_3K/2000/206.csv'), PosixPath('/mnt/Rdata/MODIS_AOD/Aerosol/MOD04_3K/2000/207.csv'), PosixPath('/mnt/Rdata/MODIS_AOD/Aerosol/MOD04_3K/2000/208.csv'), PosixPath('/mnt/Rdata/MODIS_AOD/Aerosol/MOD04_3K/2000/209.csv'), PosixPath('/mnt/Rdata/MODIS_AOD/Aerosol/MOD04_3K/2000/210.csv'), PosixPath('/mnt/Rdata/MODIS_AOD/Aerosol/MOD04_3K/2000/211.csv'), PosixPath('/mnt/Rdata/MODIS_AOD/Aerosol/MOD04_3K/2000/212.csv'), PosixPath('/mnt/Rdata/MODIS_AOD/Aerosol/MOD04_3K/2000/213.csv'), PosixPath('/mnt/Rdata/MODIS_AOD/Aerosol/MOD04_3K/2000/214.csv'), PosixPath('/mnt/Rdata/MODIS_AOD/Aerosol/MOD04_3K/2000/215.csv'), PosixPath('/mnt/Rdata/MODIS_AOD/Aerosol/MOD04_3K/2000/216.csv'), PosixPath('/mnt/Rdata/MODIS_AOD/Aerosol/MOD04_3K/2000/217.csv'), PosixPath('/mnt/Rdata/MODIS_AOD/Aerosol/MOD04_3K/2000/218.csv'), PosixPath('/mnt/Rdata/MODIS_AOD/Aerosol/MOD04_3K/2000/231.csv'), PosixPath('/mnt/Rdata/MODIS_AOD/Aerosol/MOD04_3K/2000/232.csv'), PosixPath('/mnt/Rdata/MODIS_AOD/Aerosol/MOD04_3K/2000/233.csv'), PosixPath('/mnt/Rdata/MODIS_AOD/Aerosol/MOD04_3K/2000/234.csv'), PosixPath('/mnt/Rdata/MODIS_AOD/Aerosol/MOD04_3K/2000/235.csv'), PosixPath('/mnt/Rdata/MODIS_AOD/Aerosol/MOD04_3K/2000/236.csv'), PosixPath('/mnt/Rdata/MODIS_AOD/Aerosol/MOD04_3K/2000/237.csv'), PosixPath('/mnt/Rdata/MODIS_AOD/Aerosol/MOD04_3K/2000/238.csv'), PosixPath('/mnt/Rdata/MODIS_AOD/Aerosol/MOD04_3K/2000/239.csv'), PosixPath('/mnt/Rdata/MODIS_AOD/Aerosol/MOD04_3K/2000/240.csv'), PosixPath('/mnt/Rdata/MODIS_AOD/Aerosol/MOD04_3K/2000/241.csv'), PosixPath('/mnt/Rdata/MODIS_AOD/Aerosol/MOD04_3K/2000/242.csv'), PosixPath('/mnt/Rdata/MODIS_AOD/Aerosol/MOD04_3K/2000/243.csv'), PosixPath('/mnt/Rdata/MODIS_AOD/Aerosol/MOD04_3K/2000/244.csv'), PosixPath('/mnt/Rdata/MODIS_AOD/Aerosol/MOD04_3K/2000/245.csv'), PosixPath('/mnt/Rdata/MODIS_AOD/Aerosol/MOD04_3K/2000/246.csv'), PosixPath('/mnt/Rdata/MODIS_AOD/Aerosol/MOD04_3K/2000/247.csv'), PosixPath('/mnt/Rdata/MODIS_AOD/Aerosol/MOD04_3K/2000/248.csv'), PosixPath('/mnt/Rdata/MODIS_AOD/Aerosol/MOD04_3K/2000/249.csv'), PosixPath('/mnt/Rdata/MODIS_AOD/Aerosol/MOD04_3K/2000/250.csv'), PosixPath('/mnt/Rdata/MODIS_AOD/Aerosol/MOD04_3K/2000/251.csv'), PosixPath('/mnt/Rdata/MODIS_AOD/Aerosol/MOD04_3K/2000/252.csv'), PosixPath('/mnt/Rdata/MODIS_AOD/Aerosol/MOD04_3K/2000/253.csv'), PosixPath('/mnt/Rdata/MODIS_AOD/Aerosol/MOD04_3K/2000/254.csv'), PosixPath('/mnt/Rdata/MODIS_AOD/Aerosol/MOD04_3K/2000/255.csv'), PosixPath('/mnt/Rdata/MODIS_AOD/Aerosol/MOD04_3K/2000/256.csv'), PosixPath('/mnt/Rdata/MODIS_AOD/Aerosol/MOD04_3K/2000/257.csv'), PosixPath('/mnt/Rdata/MODIS_AOD/Aerosol/MOD04_3K/2000/258.csv'), PosixPath('/mnt/Rdata/MODIS_AOD/Aerosol/MOD04_3K/2000/259.csv'), PosixPath('/mnt/Rdata/MODIS_AOD/Aerosol/MOD04_3K/2000/260.csv'), PosixPath('/mnt/Rdata/MODIS_AOD/Aerosol/MOD04_3K/2000/261.csv'), PosixPath('/mnt/Rdata/MODIS_AOD/Aerosol/MOD04_3K/2000/262.csv'), PosixPath('/mnt/Rdata/MODIS_AOD/Aerosol/MOD04_3K/2000/263.csv'), PosixPath('/mnt/Rdata/MODIS_AOD/Aerosol/MOD04_3K/2000/264.csv'), PosixPath('/mnt/Rdata/MODIS_AOD/Aerosol/MOD04_3K/2000/265.csv'), PosixPath('/mnt/Rdata/MODIS_AOD/Aerosol/MOD04_3K/2000/266.csv'), PosixPath('/mnt/Rdata/MODIS_AOD/Aerosol/MOD04_3K/2000/267.csv'), PosixPath('/mnt/Rdata/MODIS_AOD/Aerosol/MOD04_3K/2000/268.csv'), PosixPath('/mnt/Rdata/MODIS_AOD/Aerosol/MOD04_3K/2000/269.csv'), PosixPath('/mnt/Rdata/MODIS_AOD/Aerosol/MOD04_3K/2000/270.csv'), PosixPath('/mnt/Rdata/MODIS_AOD/Aerosol/MOD04_3K/2000/271.csv'), PosixPath('/mnt/Rdata/MODIS_AOD/Aerosol/MOD04_3K/2000/272.csv'), PosixPath('/mnt/Rdata/MODIS_AOD/Aerosol/MOD04_3K/2000/273.csv'), PosixPath('/mnt/Rdata/MODIS_AOD/Aerosol/MOD04_3K/2000/274.csv'), PosixPath('/mnt/Rdata/MODIS_AOD/Aerosol/MOD04_3K/2000/275.csv'), PosixPath('/mnt/Rdata/MODIS_AOD/Aerosol/MOD04_3K/2000/276.csv'), PosixPath('/mnt/Rdata/MODIS_AOD/Aerosol/MOD04_3K/2000/277.csv'), PosixPath('/mnt/Rdata/MODIS_AOD/Aerosol/MOD04_3K/2000/278.csv'), PosixPath('/mnt/Rdata/MODIS_AOD/Aerosol/MOD04_3K/2000/279.csv'), PosixPath('/mnt/Rdata/MODIS_AOD/Aerosol/MOD04_3K/2000/280.csv'), PosixPath('/mnt/Rdata/MODIS_AOD/Aerosol/MOD04_3K/2000/281.csv'), PosixPath('/mnt/Rdata/MODIS_AOD/Aerosol/MOD04_3K/2000/282.csv'), PosixPath('/mnt/Rdata/MODIS_AOD/Aerosol/MOD04_3K/2000/283.csv'), PosixPath('/mnt/Rdata/MODIS_AOD/Aerosol/MOD04_3K/2000/284.csv'), PosixPath('/mnt/Rdata/MODIS_AOD/Aerosol/MOD04_3K/2000/285.csv'), PosixPath('/mnt/Rdata/MODIS_AOD/Aerosol/MOD04_3K/2000/286.csv'), PosixPath('/mnt/Rdata/MODIS_AOD/Aerosol/MOD04_3K/2000/287.csv'), PosixPath('/mnt/Rdata/MODIS_AOD/Aerosol/MOD04_3K/2000/288.csv'), PosixPath('/mnt/Rdata/MODIS_AOD/Aerosol/MOD04_3K/2000/289.csv'), PosixPath('/mnt/Rdata/MODIS_AOD/Aerosol/MOD04_3K/2000/290.csv'), PosixPath('/mnt/Rdata/MODIS_AOD/Aerosol/MOD04_3K/2000/291.csv'), PosixPath('/mnt/Rdata/MODIS_AOD/Aerosol/MOD04_3K/2000/292.csv'), PosixPath('/mnt/Rdata/MODIS_AOD/Aerosol/MOD04_3K/2000/293.csv'), PosixPath('/mnt/Rdata/MODIS_AOD/Aerosol/MOD04_3K/2000/294.csv'), PosixPath('/mnt/Rdata/MODIS_AOD/Aerosol/MOD04_3K/2000/295.csv'), PosixPath('/mnt/Rdata/MODIS_AOD/Aerosol/MOD04_3K/2000/296.csv'), PosixPath('/mnt/Rdata/MODIS_AOD/Aerosol/MOD04_3K/2000/297.csv'), PosixPath('/mnt/Rdata/MODIS_AOD/Aerosol/MOD04_3K/2000/298.csv'), PosixPath('/mnt/Rdata/MODIS_AOD/Aerosol/MOD04_3K/2000/299.csv'), PosixPath('/mnt/Rdata/MODIS_AOD/Aerosol/MOD04_3K/2000/300.csv'), PosixPath('/mnt/Rdata/MODIS_AOD/Aerosol/MOD04_3K/2000/301.csv'), PosixPath('/mnt/Rdata/MODIS_AOD/Aerosol/MOD04_3K/2000/302.csv'), PosixPath('/mnt/Rdata/MODIS_AOD/Aerosol/MOD04_3K/2000/303.csv'), PosixPath('/mnt/Rdata/MODIS_AOD/Aerosol/MOD04_3K/2000/304.csv'), PosixPath('/mnt/Rdata/MODIS_AOD/Aerosol/MOD04_3K/2000/305.csv'), PosixPath('/mnt/Rdata/MODIS_AOD/Aerosol/MOD04_3K/2000/306.csv'), PosixPath('/mnt/Rdata/MODIS_AOD/Aerosol/MOD04_3K/2000/307.csv'), PosixPath('/mnt/Rdata/MODIS_AOD/Aerosol/MOD04_3K/2000/308.csv'), PosixPath('/mnt/Rdata/MODIS_AOD/Aerosol/MOD04_3K/2000/309.csv'), PosixPath('/mnt/Rdata/MODIS_AOD/Aerosol/MOD04_3K/2000/310.csv'), PosixPath('/mnt/Rdata/MODIS_AOD/Aerosol/MOD04_3K/2000/311.csv'), PosixPath('/mnt/Rdata/MODIS_AOD/Aerosol/MOD04_3K/2000/312.csv'), PosixPath('/mnt/Rdata/MODIS_AOD/Aerosol/MOD04_3K/2000/313.csv'), PosixPath('/mnt/Rdata/MODIS_AOD/Aerosol/MOD04_3K/2000/314.csv'), PosixPath('/mnt/Rdata/MODIS_AOD/Aerosol/MOD04_3K/2000/315.csv'), PosixPath('/mnt/Rdata/MODIS_AOD/Aerosol/MOD04_3K/2000/316.csv'), PosixPath('/mnt/Rdata/MODIS_AOD/Aerosol/MOD04_3K/2000/317.csv'), PosixPath('/mnt/Rdata/MODIS_AOD/Aerosol/MOD04_3K/2000/318.csv'), PosixPath('/mnt/Rdata/MODIS_AOD/Aerosol/MOD04_3K/2000/319.csv'), PosixPath('/mnt/Rdata/MODIS_AOD/Aerosol/MOD04_3K/2000/320.csv'), PosixPath('/mnt/Rdata/MODIS_AOD/Aerosol/MOD04_3K/2000/321.csv'), PosixPath('/mnt/Rdata/MODIS_AOD/Aerosol/MOD04_3K/2000/322.csv'), PosixPath('/mnt/Rdata/MODIS_AOD/Aerosol/MOD04_3K/2000/323.csv'), PosixPath('/mnt/Rdata/MODIS_AOD/Aerosol/MOD04_3K/2000/324.csv'), PosixPath('/mnt/Rdata/MODIS_AOD/Aerosol/MOD04_3K/2000/325.csv'), PosixPath('/mnt/Rdata/MODIS_AOD/Aerosol/MOD04_3K/2000/326.csv'), PosixPath('/mnt/Rdata/MODIS_AOD/Aerosol/MOD04_3K/2000/327.csv'), PosixPath('/mnt/Rdata/MODIS_AOD/Aerosol/MOD04_3K/2000/328.csv'), PosixPath('/mnt/Rdata/MODIS_AOD/Aerosol/MOD04_3K/2000/329.csv'), PosixPath('/mnt/Rdata/MODIS_AOD/Aerosol/MOD04_3K/2000/330.csv'), PosixPath('/mnt/Rdata/MODIS_AOD/Aerosol/MOD04_3K/2000/331.csv'), PosixPath('/mnt/Rdata/MODIS_AOD/Aerosol/MOD04_3K/2000/332.csv'), PosixPath('/mnt/Rdata/MODIS_AOD/Aerosol/MOD04_3K/2000/333.csv'), PosixPath('/mnt/Rdata/MODIS_AOD/Aerosol/MOD04_3K/2000/334.csv'), PosixPath('/mnt/Rdata/MODIS_AOD/Aerosol/MOD04_3K/2000/335.csv'), PosixPath('/mnt/Rdata/MODIS_AOD/Aerosol/MOD04_3K/2000/336.csv'), PosixPath('/mnt/Rdata/MODIS_AOD/Aerosol/MOD04_3K/2000/337.csv'), PosixPath('/mnt/Rdata/MODIS_AOD/Aerosol/MOD04_3K/2000/338.csv'), PosixPath('/mnt/Rdata/MODIS_AOD/Aerosol/MOD04_3K/2000/339.csv'), PosixPath('/mnt/Rdata/MODIS_AOD/Aerosol/MOD04_3K/2000/340.csv'), PosixPath('/mnt/Rdata/MODIS_AOD/Aerosol/MOD04_3K/2000/341.csv'), PosixPath('/mnt/Rdata/MODIS_AOD/Aerosol/MOD04_3K/2000/342.csv'), PosixPath('/mnt/Rdata/MODIS_AOD/Aerosol/MOD04_3K/2000/343.csv'), PosixPath('/mnt/Rdata/MODIS_AOD/Aerosol/MOD04_3K/2000/344.csv'), PosixPath('/mnt/Rdata/MODIS_AOD/Aerosol/MOD04_3K/2000/345.csv'), PosixPath('/mnt/Rdata/MODIS_AOD/Aerosol/MOD04_3K/2000/346.csv'), PosixPath('/mnt/Rdata/MODIS_AOD/Aerosol/MOD04_3K/2000/347.csv'), PosixPath('/mnt/Rdata/MODIS_AOD/Aerosol/MOD04_3K/2000/348.csv'), PosixPath('/mnt/Rdata/MODIS_AOD/Aerosol/MOD04_3K/2000/349.csv'), PosixPath('/mnt/Rdata/MODIS_AOD/Aerosol/MOD04_3K/2000/350.csv'), PosixPath('/mnt/Rdata/MODIS_AOD/Aerosol/MOD04_3K/2000/351.csv'), PosixPath('/mnt/Rdata/MODIS_AOD/Aerosol/MOD04_3K/2000/352.csv'), PosixPath('/mnt/Rdata/MODIS_AOD/Aerosol/MOD04_3K/2000/353.csv'), PosixPath('/mnt/Rdata/MODIS_AOD/Aerosol/MOD04_3K/2000/354.csv'), PosixPath('/mnt/Rdata/MODIS_AOD/Aerosol/MOD04_3K/2000/355.csv'), PosixPath('/mnt/Rdata/MODIS_AOD/Aerosol/MOD04_3K/2000/356.csv'), PosixPath('/mnt/Rdata/MODIS_AOD/Aerosol/MOD04_3K/2000/357.csv'), PosixPath('/mnt/Rdata/MODIS_AOD/Aerosol/MOD04_3K/2000/358.csv'), PosixPath('/mnt/Rdata/MODIS_AOD/Aerosol/MOD04_3K/2000/359.csv'), PosixPath('/mnt/Rdata/MODIS_AOD/Aerosol/MOD04_3K/2000/360.csv'), PosixPath('/mnt/Rdata/MODIS_AOD/Aerosol/MOD04_3K/2000/361.csv'), PosixPath('/mnt/Rdata/MODIS_AOD/Aerosol/MOD04_3K/2000/362.csv'), PosixPath('/mnt/Rdata/MODIS_AOD/Aerosol/MOD04_3K/2000/363.csv'), PosixPath('/mnt/Rdata/MODIS_AOD/Aerosol/MOD04_3K/2000/364.csv'), PosixPath('/mnt/Rdata/MODIS_AOD/Aerosol/MOD04_3K/2000/365.csv'), PosixPath('/mnt/Rdata/MODIS_AOD/Aerosol/MOD04_3K/2000/366.csv')]\n"
     ]
    },
    {
     "data": {
      "text/html": [
       "<div>\n",
       "<style scoped>\n",
       "    .dataframe tbody tr th:only-of-type {\n",
       "        vertical-align: middle;\n",
       "    }\n",
       "\n",
       "    .dataframe tbody tr th {\n",
       "        vertical-align: top;\n",
       "    }\n",
       "\n",
       "    .dataframe thead th {\n",
       "        text-align: right;\n",
       "    }\n",
       "</style>\n",
       "<table border=\"1\" class=\"dataframe\">\n",
       "  <thead>\n",
       "    <tr style=\"text-align: right;\">\n",
       "      <th></th>\n",
       "      <th>name</th>\n",
       "      <th>last_modified</th>\n",
       "      <th>size</th>\n",
       "    </tr>\n",
       "  </thead>\n",
       "  <tbody>\n",
       "    <tr>\n",
       "      <th>0</th>\n",
       "      <td>MOD04_3K.A2000055.0005.061.2017205182659.hdf</td>\n",
       "      <td>2018-05-21 16:57</td>\n",
       "      <td>3586937</td>\n",
       "    </tr>\n",
       "    <tr>\n",
       "      <th>1</th>\n",
       "      <td>MOD04_3K.A2000055.0010.061.2017205183233.hdf</td>\n",
       "      <td>2018-05-21 16:57</td>\n",
       "      <td>3407157</td>\n",
       "    </tr>\n",
       "    <tr>\n",
       "      <th>2</th>\n",
       "      <td>MOD04_3K.A2000055.0015.061.2017205182756.hdf</td>\n",
       "      <td>2018-05-21 16:57</td>\n",
       "      <td>3322584</td>\n",
       "    </tr>\n",
       "    <tr>\n",
       "      <th>3</th>\n",
       "      <td>MOD04_3K.A2000055.0020.061.2017205182739.hdf</td>\n",
       "      <td>2018-05-21 16:57</td>\n",
       "      <td>3337709</td>\n",
       "    </tr>\n",
       "    <tr>\n",
       "      <th>4</th>\n",
       "      <td>MOD04_3K.A2000055.0025.061.2017205182727.hdf</td>\n",
       "      <td>2018-05-21 16:58</td>\n",
       "      <td>3440347</td>\n",
       "    </tr>\n",
       "    <tr>\n",
       "      <th>...</th>\n",
       "      <td>...</td>\n",
       "      <td>...</td>\n",
       "      <td>...</td>\n",
       "    </tr>\n",
       "    <tr>\n",
       "      <th>121</th>\n",
       "      <td>MOD04_3K.A2000055.2335.061.2017205183316.hdf</td>\n",
       "      <td>2018-05-21 16:57</td>\n",
       "      <td>10635355</td>\n",
       "    </tr>\n",
       "    <tr>\n",
       "      <th>122</th>\n",
       "      <td>MOD04_3K.A2000055.2340.061.2017205183434.hdf</td>\n",
       "      <td>2018-05-21 16:57</td>\n",
       "      <td>10165552</td>\n",
       "    </tr>\n",
       "    <tr>\n",
       "      <th>123</th>\n",
       "      <td>MOD04_3K.A2000055.2345.061.2017205183948.hdf</td>\n",
       "      <td>2018-05-21 16:57</td>\n",
       "      <td>13746074</td>\n",
       "    </tr>\n",
       "    <tr>\n",
       "      <th>124</th>\n",
       "      <td>MOD04_3K.A2000055.2350.061.2017205183717.hdf</td>\n",
       "      <td>2018-05-21 16:57</td>\n",
       "      <td>10542262</td>\n",
       "    </tr>\n",
       "    <tr>\n",
       "      <th>125</th>\n",
       "      <td>MOD04_3K.A2000055.2355.061.2017205182932.hdf</td>\n",
       "      <td>2018-05-21 16:57</td>\n",
       "      <td>3594080</td>\n",
       "    </tr>\n",
       "  </tbody>\n",
       "</table>\n",
       "<p>126 rows × 3 columns</p>\n",
       "</div>"
      ],
      "text/plain": [
       "                                             name     last_modified      size\n",
       "0    MOD04_3K.A2000055.0005.061.2017205182659.hdf  2018-05-21 16:57   3586937\n",
       "1    MOD04_3K.A2000055.0010.061.2017205183233.hdf  2018-05-21 16:57   3407157\n",
       "2    MOD04_3K.A2000055.0015.061.2017205182756.hdf  2018-05-21 16:57   3322584\n",
       "3    MOD04_3K.A2000055.0020.061.2017205182739.hdf  2018-05-21 16:57   3337709\n",
       "4    MOD04_3K.A2000055.0025.061.2017205182727.hdf  2018-05-21 16:58   3440347\n",
       "..                                            ...               ...       ...\n",
       "121  MOD04_3K.A2000055.2335.061.2017205183316.hdf  2018-05-21 16:57  10635355\n",
       "122  MOD04_3K.A2000055.2340.061.2017205183434.hdf  2018-05-21 16:57  10165552\n",
       "123  MOD04_3K.A2000055.2345.061.2017205183948.hdf  2018-05-21 16:57  13746074\n",
       "124  MOD04_3K.A2000055.2350.061.2017205183717.hdf  2018-05-21 16:57  10542262\n",
       "125  MOD04_3K.A2000055.2355.061.2017205182932.hdf  2018-05-21 16:57   3594080\n",
       "\n",
       "[126 rows x 3 columns]"
      ]
     },
     "execution_count": 5,
     "metadata": {},
     "output_type": "execute_result"
    }
   ],
   "source": [
    "DOINGDIR = DOINGDIRs[0]\n",
    "DOINGDIR = Path(DOINGDIR)\n",
    "print(DOINGDIR)\n",
    "fpaths = sorted(list(DOINGDIR.glob('*.csv')))\n",
    "print(fpaths)\n",
    "\n",
    "import pandas as pd\n",
    "\n",
    "df = pd.read_csv(str(fpaths[0]))\n",
    "df"
   ]
  },
  {
   "cell_type": "code",
   "execution_count": 11,
   "metadata": {},
   "outputs": [
    {
     "name": "stdout",
     "output_type": "stream",
     "text": [
      "/mnt/Rdata/MODIS_AOD/Aerosol/MOD04_3K/2000\n",
      "/mnt/Rdata/MODIS_AOD/Aerosol/MOD04_3K/2000/055\n"
     ]
    },
    {
     "ename": "OSError",
     "evalue": "[Errno 36] File name too long: \"[PosixPath('/mnt/Rdata/MODIS_AOD/Aerosol/MOD04_3K/2000/055/MOD04_3K.A2000055.1525.061.2017205182858_hist.png'), PosixPath('/mnt/Rdata/MODIS_AOD/Aerosol/MOD04_3K/2000/055/MOD04_3K.A2000055.1525.061.2017205182858_map.png'), PosixPath('/mnt/Rdata/MODIS_AOD/Aerosol/MOD04_3K/2000/055/MOD04_3K.A2000055.1530.061.2017205182924_hist.png'), PosixPath('/mnt/Rdata/MODIS_AOD/Aerosol/MOD04_3K/2000/055/MOD04_3K.A2000055.1530.061.2017205182924_map.png'), PosixPath('/mnt/Rdata/MODIS_AOD/Aerosol/MOD04_3K/2000/055/MOD04_3K.A2000055.1535.061.2017205182946_hist.png'), PosixPath('/mnt/Rdata/MODIS_AOD/Aerosol/MOD04_3K/2000/055/MOD04_3K.A2000055.1535.061.2017205182946_map.png'), PosixPath('/mnt/Rdata/MODIS_AOD/Aerosol/MOD04_3K/2000/055/MOD04_3K.A2000055.1540.061.2017205183153_hist.png'), PosixPath('/mnt/Rdata/MODIS_AOD/Aerosol/MOD04_3K/2000/055/MOD04_3K.A2000055.1540.061.2017205183153_map.png'), PosixPath('/mnt/Rdata/MODIS_AOD/Aerosol/MOD04_3K/2000/055/MOD04_3K.A2000055.1640.061.2017205183828_hist.png'), PosixPath('/mnt/Rdata/MODIS_AOD/Aerosol/MOD04_3K/2000/055/MOD04_3K.A2000055.1640.061.2017205183828_map.png'), PosixPath('/mnt/Rdata/MODIS_AOD/Aerosol/MOD04_3K/2000/055/MOD04_3K.A2000055.1645.061.2017205183237_hist.png'), PosixPath('/mnt/Rdata/MODIS_AOD/Aerosol/MOD04_3K/2000/055/MOD04_3K.A2000055.1645.061.2017205183237_map.png'), PosixPath('/mnt/Rdata/MODIS_AOD/Aerosol/MOD04_3K/2000/055/MOD04_3K.A2000055.1650.061.2017205183313_hist.png'), PosixPath('/mnt/Rdata/MODIS_AOD/Aerosol/MOD04_3K/2000/055/MOD04_3K.A2000055.1650.061.2017205183313_map.png'), PosixPath('/mnt/Rdata/MODIS_AOD/Aerosol/MOD04_3K/2000/055/MOD04_3K.A2000055.1655.061.2017205184104_hist.png'), PosixPath('/mnt/Rdata/MODIS_AOD/Aerosol/MOD04_3K/2000/055/MOD04_3K.A2000055.1655.061.2017205184104_map.png'), PosixPath('/mnt/Rdata/MODIS_AOD/Aerosol/MOD04_3K/2000/055/MOD04_3K.A2000055.1700.061.2017205183509_hist.png'), PosixPath('/mnt/Rdata/MODIS_AOD/Aerosol/MOD04_3K/2000/055/MOD04_3K.A2000055.1700.061.2017205183509_map.png'), PosixPath('/mnt/Rdata/MODIS_AOD/Aerosol/MOD04_3K/2000/055/MOD04_3K.A2000055.1705.061.2017205183918_hist.png'), PosixPath('/mnt/Rdata/MODIS_AOD/Aerosol/MOD04_3K/2000/055/MOD04_3K.A2000055.1705.061.2017205183918_map.png'), PosixPath('/mnt/Rdata/MODIS_AOD/Aerosol/MOD04_3K/2000/055/MOD04_3K.A2000055.1710.061.2017205183200_hist.png'), PosixPath('/mnt/Rdata/MODIS_AOD/Aerosol/MOD04_3K/2000/055/MOD04_3K.A2000055.1710.061.2017205183200_map.png'), PosixPath('/mnt/Rdata/MODIS_AOD/Aerosol/MOD04_3K/2000/055/MOD04_3K.A2000055.1715.061.2017205183042_hist.png'), PosixPath('/mnt/Rdata/MODIS_AOD/Aerosol/MOD04_3K/2000/055/MOD04_3K.A2000055.1715.061.2017205183042_map.png'), PosixPath('/mnt/Rdata/MODIS_AOD/Aerosol/MOD04_3K/2000/055/MOD04_3K.A2000055.1720.061.2017205183746_hist.png'), PosixPath('/mnt/Rdata/MODIS_AOD/Aerosol/MOD04_3K/2000/055/MOD04_3K.A2000055.1720.061.2017205183746_map.png'), PosixPath('/mnt/Rdata/MODIS_AOD/Aerosol/MOD04_3K/2000/055/MOD04_3K.A2000055.1825.061.2017205183453_hist.png'), PosixPath('/mnt/Rdata/MODIS_AOD/Aerosol/MOD04_3K/2000/055/MOD04_3K.A2000055.1825.061.2017205183453_map.png'), PosixPath('/mnt/Rdata/MODIS_AOD/Aerosol/MOD04_3K/2000/055/MOD04_3K.A2000055.1830.061.2017205183207_hist.png'), PosixPath('/mnt/Rdata/MODIS_AOD/Aerosol/MOD04_3K/2000/055/MOD04_3K.A2000055.1830.061.2017205183207_map.png'), PosixPath('/mnt/Rdata/MODIS_AOD/Aerosol/MOD04_3K/2000/055/MOD04_3K.A2000055.1835.061.2017205183003_hist.png'), PosixPath('/mnt/Rdata/MODIS_AOD/Aerosol/MOD04_3K/2000/055/MOD04_3K.A2000055.1835.061.2017205183003_map.png'), PosixPath('/mnt/Rdata/MODIS_AOD/Aerosol/MOD04_3K/2000/055/MOD04_3K.A2000055.1840.061.2017205183343_hist.png'), PosixPath('/mnt/Rdata/MODIS_AOD/Aerosol/MOD04_3K/2000/055/MOD04_3K.A2000055.1840.061.2017205183343_map.png'), PosixPath('/mnt/Rdata/MODIS_AOD/Aerosol/MOD04_3K/2000/055/MOD04_3K.A2000055.1845.061.2017205183244_hist.png'), PosixPath('/mnt/Rdata/MODIS_AOD/Aerosol/MOD04_3K/2000/055/MOD04_3K.A2000055.1845.061.2017205183244_map.png'), PosixPath('/mnt/Rdata/MODIS_AOD/Aerosol/MOD04_3K/2000/055/MOD04_3K.A2000055.1850.061.2017205183010_hist.png'), PosixPath('/mnt/Rdata/MODIS_AOD/Aerosol/MOD04_3K/2000/055/MOD04_3K.A2000055.1850.061.2017205183010_map.png'), PosixPath('/mnt/Rdata/MODIS_AOD/Aerosol/MOD04_3K/2000/055/MOD04_3K.A2000055.1855.061.2017205183254_hist.png'), PosixPath('/mnt/Rdata/MODIS_AOD/Aerosol/MOD04_3K/2000/055/MOD04_3K.A2000055.1855.061.2017205183254_map.png'), PosixPath('/mnt/Rdata/MODIS_AOD/Aerosol/MOD04_3K/2000/055/MOD04_3K.A2000055.1900.061.2017205183218_hist.png'), PosixPath('/mnt/Rdata/MODIS_AOD/Aerosol/MOD04_3K/2000/055/MOD04_3K.A2000055.1900.061.2017205183218_map.png'), PosixPath('/mnt/Rdata/MODIS_AOD/Aerosol/MOD04_3K/2000/055/MOD04_3K.A2000055.2000.061.2017205183025_hist.png'), PosixPath('/mnt/Rdata/MODIS_AOD/Aerosol/MOD04_3K/2000/055/MOD04_3K.A2000055.2000.061.2017205183025_map.png'), PosixPath('/mnt/Rdata/MODIS_AOD/Aerosol/MOD04_3K/2000/055/MOD04_3K.A2000055.2005.061.2017205183039_hist.png'), PosixPath('/mnt/Rdata/MODIS_AOD/Aerosol/MOD04_3K/2000/055/MOD04_3K.A2000055.2005.061.2017205183039_map.png'), PosixPath('/mnt/Rdata/MODIS_AOD/Aerosol/MOD04_3K/2000/055/MOD04_3K.A2000055.2010.061.2017205183226_hist.png'), PosixPath('/mnt/Rdata/MODIS_AOD/Aerosol/MOD04_3K/2000/055/MOD04_3K.A2000055.2010.061.2017205183226_map.png'), PosixPath('/mnt/Rdata/MODIS_AOD/Aerosol/MOD04_3K/2000/055/MOD04_3K.A2000055.2015.061.2017205183042_hist.png'), PosixPath('/mnt/Rdata/MODIS_AOD/Aerosol/MOD04_3K/2000/055/MOD04_3K.A2000055.2015.061.2017205183042_map.png'), PosixPath('/mnt/Rdata/MODIS_AOD/Aerosol/MOD04_3K/2000/055/MOD04_3K.A2000055.2020.061.2017205183714_hist.png'), PosixPath('/mnt/Rdata/MODIS_AOD/Aerosol/MOD04_3K/2000/055/MOD04_3K.A2000055.2020.061.2017205183714_map.png'), PosixPath('/mnt/Rdata/MODIS_AOD/Aerosol/MOD04_3K/2000/055/MOD04_3K.A2000055.2025.061.2017205183644_hist.png'), PosixPath('/mnt/Rdata/MODIS_AOD/Aerosol/MOD04_3K/2000/055/MOD04_3K.A2000055.2025.061.2017205183644_map.png'), PosixPath('/mnt/Rdata/MODIS_AOD/Aerosol/MOD04_3K/2000/055/MOD04_3K.A2000055.2030.061.2017205183840_hist.png'), PosixPath('/mnt/Rdata/MODIS_AOD/Aerosol/MOD04_3K/2000/055/MOD04_3K.A2000055.2030.061.2017205183840_map.png'), PosixPath('/mnt/Rdata/MODIS_AOD/Aerosol/MOD04_3K/2000/055/MOD04_3K.A2000055.2035.061.2017205183856_hist.png'), PosixPath('/mnt/Rdata/MODIS_AOD/Aerosol/MOD04_3K/2000/055/MOD04_3K.A2000055.2035.061.2017205183856_map.png'), PosixPath('/mnt/Rdata/MODIS_AOD/Aerosol/MOD04_3K/2000/055/MOD04_3K.A2000055.2040.061.2017205183417_hist.png'), PosixPath('/mnt/Rdata/MODIS_AOD/Aerosol/MOD04_3K/2000/055/MOD04_3K.A2000055.2040.061.2017205183417_map.png'), PosixPath('/mnt/Rdata/MODIS_AOD/Aerosol/MOD04_3K/2000/055/MOD04_3K.A2000055.2135.061.2017205183550_hist.png'), PosixPath('/mnt/Rdata/MODIS_AOD/Aerosol/MOD04_3K/2000/055/MOD04_3K.A2000055.2135.061.2017205183550_map.png'), PosixPath('/mnt/Rdata/MODIS_AOD/Aerosol/MOD04_3K/2000/055/MOD04_3K.A2000055.2140.061.2017205183302_hist.png'), PosixPath('/mnt/Rdata/MODIS_AOD/Aerosol/MOD04_3K/2000/055/MOD04_3K.A2000055.2140.061.2017205183302_map.png'), PosixPath('/mnt/Rdata/MODIS_AOD/Aerosol/MOD04_3K/2000/055/MOD04_3K.A2000055.2145.061.2017205183748_hist.png'), PosixPath('/mnt/Rdata/MODIS_AOD/Aerosol/MOD04_3K/2000/055/MOD04_3K.A2000055.2145.061.2017205183748_map.png'), PosixPath('/mnt/Rdata/MODIS_AOD/Aerosol/MOD04_3K/2000/055/MOD04_3K.A2000055.2150.061.2017205183441_hist.png'), PosixPath('/mnt/Rdata/MODIS_AOD/Aerosol/MOD04_3K/2000/055/MOD04_3K.A2000055.2150.061.2017205183441_map.png'), PosixPath('/mnt/Rdata/MODIS_AOD/Aerosol/MOD04_3K/2000/055/MOD04_3K.A2000055.2155.061.2017205183626_hist.png'), PosixPath('/mnt/Rdata/MODIS_AOD/Aerosol/MOD04_3K/2000/055/MOD04_3K.A2000055.2155.061.2017205183626_map.png'), PosixPath('/mnt/Rdata/MODIS_AOD/Aerosol/MOD04_3K/2000/055/MOD04_3K.A2000055.2200.061.2017205183821_hist.png'), PosixPath('/mnt/Rdata/MODIS_AOD/Aerosol/MOD04_3K/2000/055/MOD04_3K.A2000055.2200.061.2017205183821_map.png'), PosixPath('/mnt/Rdata/MODIS_AOD/Aerosol/MOD04_3K/2000/055/MOD04_3K.A2000055.2205.061.2017205183212_hist.png'), PosixPath('/mnt/Rdata/MODIS_AOD/Aerosol/MOD04_3K/2000/055/MOD04_3K.A2000055.2205.061.2017205183212_map.png'), PosixPath('/mnt/Rdata/MODIS_AOD/Aerosol/MOD04_3K/2000/055/MOD04_3K.A2000055.2210.061.2017205183009_hist.png'), PosixPath('/mnt/Rdata/MODIS_AOD/Aerosol/MOD04_3K/2000/055/MOD04_3K.A2000055.2210.061.2017205183009_map.png'), PosixPath('/mnt/Rdata/MODIS_AOD/Aerosol/MOD04_3K/2000/055/MOD04_3K.A2000055.2215.061.2017205183408_hist.png'), PosixPath('/mnt/Rdata/MODIS_AOD/Aerosol/MOD04_3K/2000/055/MOD04_3K.A2000055.2215.061.2017205183408_map.png'), PosixPath('/mnt/Rdata/MODIS_AOD/Aerosol/MOD04_3K/2000/055/MOD04_3K.A2000055.2315.061.2017205182947_hist.png'), PosixPath('/mnt/Rdata/MODIS_AOD/Aerosol/MOD04_3K/2000/055/MOD04_3K.A2000055.2315.061.2017205182947_map.png'), PosixPath('/mnt/Rdata/MODIS_AOD/Aerosol/MOD04_3K/2000/055/MOD04_3K.A2000055.2320.061.2017205183448_hist.png'), PosixPath('/mnt/Rdata/MODIS_AOD/Aerosol/MOD04_3K/2000/055/MOD04_3K.A2000055.2320.061.2017205183448_map.png'), PosixPath('/mnt/Rdata/MODIS_AOD/Aerosol/MOD04_3K/2000/055/MOD04_3K.A2000055.2325.061.2017205183031_hist.png'), PosixPath('/mnt/Rdata/MODIS_AOD/Aerosol/MOD04_3K/2000/055/MOD04_3K.A2000055.2325.061.2017205183031_map.png'), PosixPath('/mnt/Rdata/MODIS_AOD/Aerosol/MOD04_3K/2000/055/MOD04_3K.A2000055.2330.061.2017205183742_hist.png'), PosixPath('/mnt/Rdata/MODIS_AOD/Aerosol/MOD04_3K/2000/055/MOD04_3K.A2000055.2330.061.2017205183742_map.png'), PosixPath('/mnt/Rdata/MODIS_AOD/Aerosol/MOD04_3K/2000/055/MOD04_3K.A2000055.2335.061.2017205183316_hist.png'), PosixPath('/mnt/Rdata/MODIS_AOD/Aerosol/MOD04_3K/2000/055/MOD04_3K.A2000055.2335.061.2017205183316_map.png'), PosixPath('/mnt/Rdata/MODIS_AOD/Aerosol/MOD04_3K/2000/055/MOD04_3K.A2000055.2340.061.2017205183434_hist.png'), PosixPath('/mnt/Rdata/MODIS_AOD/Aerosol/MOD04_3K/2000/055/MOD04_3K.A2000055.2340.061.2017205183434_map.png'), PosixPath('/mnt/Rdata/MODIS_AOD/Aerosol/MOD04_3K/2000/055/MOD04_3K.A2000055.2345.061.2017205183948_hist.png'), PosixPath('/mnt/Rdata/MODIS_AOD/Aerosol/MOD04_3K/2000/055/MOD04_3K.A2000055.2345.061.2017205183948_map.png'), PosixPath('/mnt/Rdata/MODIS_AOD/Aerosol/MOD04_3K/2000/055/MOD04_3K.A2000055.2350.061.2017205183717_hist.png'), PosixPath('/mnt/Rdata/MODIS_AOD/Aerosol/MOD04_3K/2000/055/MOD04_3K.A2000055.2350.061.2017205183717_map.png'), PosixPath('/mnt/Rdata/MODIS_AOD/Aerosol/MOD04_3K/2000/055/MOD04_3K.A2000055.2355.061.2017205182932_hist.png'), PosixPath('/mnt/Rdata/MODIS_AOD/Aerosol/MOD04_3K/2000/055/MOD04_3K.A2000055.2355.061.2017205182932_map.png')]\"",
     "output_type": "error",
     "traceback": [
      "\u001b[0;31m---------------------------------------------------------------------------\u001b[0m",
      "\u001b[0;31mOSError\u001b[0m                                   Traceback (most recent call last)",
      "\u001b[1;32m/mnt/homes/parksparks/Drive/KBox/Github/MODIS_AOD_Python/01_00_delete_pngfiel.ipynb Cell 12\u001b[0m line \u001b[0;36m1\n\u001b[1;32m     <a href='vscode-notebook-cell:/mnt/homes/parksparks/Drive/KBox/Github/MODIS_AOD_Python/01_00_delete_pngfiel.ipynb#Y144sZmlsZQ%3D%3D?line=9'>10</a>\u001b[0m \u001b[39mprint\u001b[39m(YDDIR)\n\u001b[1;32m     <a href='vscode-notebook-cell:/mnt/homes/parksparks/Drive/KBox/Github/MODIS_AOD_Python/01_00_delete_pngfiel.ipynb#Y144sZmlsZQ%3D%3D?line=10'>11</a>\u001b[0m fpaths \u001b[39m=\u001b[39m \u001b[39msorted\u001b[39m(\u001b[39mlist\u001b[39m(YDDIR\u001b[39m.\u001b[39mglob(\u001b[39m'\u001b[39m\u001b[39m*.png\u001b[39m\u001b[39m'\u001b[39m)))\n\u001b[0;32m---> <a href='vscode-notebook-cell:/mnt/homes/parksparks/Drive/KBox/Github/MODIS_AOD_Python/01_00_delete_pngfiel.ipynb#Y144sZmlsZQ%3D%3D?line=11'>12</a>\u001b[0m os\u001b[39m.\u001b[39;49mremove(\u001b[39mstr\u001b[39;49m(fpaths))\n\u001b[1;32m     <a href='vscode-notebook-cell:/mnt/homes/parksparks/Drive/KBox/Github/MODIS_AOD_Python/01_00_delete_pngfiel.ipynb#Y144sZmlsZQ%3D%3D?line=12'>13</a>\u001b[0m \u001b[39mprint\u001b[39m(\u001b[39mf\u001b[39m\u001b[39m\"\u001b[39m\u001b[39m{\u001b[39;00m\u001b[39mstr\u001b[39m(fpaths\u001b[39m.\u001b[39mstem)\u001b[39m}\u001b[39;00m\u001b[39m is deleted...\u001b[39m\u001b[39m\"\u001b[39m)\n",
      "\u001b[0;31mOSError\u001b[0m: [Errno 36] File name too long: \"[PosixPath('/mnt/Rdata/MODIS_AOD/Aerosol/MOD04_3K/2000/055/MOD04_3K.A2000055.1525.061.2017205182858_hist.png'), PosixPath('/mnt/Rdata/MODIS_AOD/Aerosol/MOD04_3K/2000/055/MOD04_3K.A2000055.1525.061.2017205182858_map.png'), PosixPath('/mnt/Rdata/MODIS_AOD/Aerosol/MOD04_3K/2000/055/MOD04_3K.A2000055.1530.061.2017205182924_hist.png'), PosixPath('/mnt/Rdata/MODIS_AOD/Aerosol/MOD04_3K/2000/055/MOD04_3K.A2000055.1530.061.2017205182924_map.png'), PosixPath('/mnt/Rdata/MODIS_AOD/Aerosol/MOD04_3K/2000/055/MOD04_3K.A2000055.1535.061.2017205182946_hist.png'), PosixPath('/mnt/Rdata/MODIS_AOD/Aerosol/MOD04_3K/2000/055/MOD04_3K.A2000055.1535.061.2017205182946_map.png'), PosixPath('/mnt/Rdata/MODIS_AOD/Aerosol/MOD04_3K/2000/055/MOD04_3K.A2000055.1540.061.2017205183153_hist.png'), PosixPath('/mnt/Rdata/MODIS_AOD/Aerosol/MOD04_3K/2000/055/MOD04_3K.A2000055.1540.061.2017205183153_map.png'), PosixPath('/mnt/Rdata/MODIS_AOD/Aerosol/MOD04_3K/2000/055/MOD04_3K.A2000055.1640.061.2017205183828_hist.png'), PosixPath('/mnt/Rdata/MODIS_AOD/Aerosol/MOD04_3K/2000/055/MOD04_3K.A2000055.1640.061.2017205183828_map.png'), PosixPath('/mnt/Rdata/MODIS_AOD/Aerosol/MOD04_3K/2000/055/MOD04_3K.A2000055.1645.061.2017205183237_hist.png'), PosixPath('/mnt/Rdata/MODIS_AOD/Aerosol/MOD04_3K/2000/055/MOD04_3K.A2000055.1645.061.2017205183237_map.png'), PosixPath('/mnt/Rdata/MODIS_AOD/Aerosol/MOD04_3K/2000/055/MOD04_3K.A2000055.1650.061.2017205183313_hist.png'), PosixPath('/mnt/Rdata/MODIS_AOD/Aerosol/MOD04_3K/2000/055/MOD04_3K.A2000055.1650.061.2017205183313_map.png'), PosixPath('/mnt/Rdata/MODIS_AOD/Aerosol/MOD04_3K/2000/055/MOD04_3K.A2000055.1655.061.2017205184104_hist.png'), PosixPath('/mnt/Rdata/MODIS_AOD/Aerosol/MOD04_3K/2000/055/MOD04_3K.A2000055.1655.061.2017205184104_map.png'), PosixPath('/mnt/Rdata/MODIS_AOD/Aerosol/MOD04_3K/2000/055/MOD04_3K.A2000055.1700.061.2017205183509_hist.png'), PosixPath('/mnt/Rdata/MODIS_AOD/Aerosol/MOD04_3K/2000/055/MOD04_3K.A2000055.1700.061.2017205183509_map.png'), PosixPath('/mnt/Rdata/MODIS_AOD/Aerosol/MOD04_3K/2000/055/MOD04_3K.A2000055.1705.061.2017205183918_hist.png'), PosixPath('/mnt/Rdata/MODIS_AOD/Aerosol/MOD04_3K/2000/055/MOD04_3K.A2000055.1705.061.2017205183918_map.png'), PosixPath('/mnt/Rdata/MODIS_AOD/Aerosol/MOD04_3K/2000/055/MOD04_3K.A2000055.1710.061.2017205183200_hist.png'), PosixPath('/mnt/Rdata/MODIS_AOD/Aerosol/MOD04_3K/2000/055/MOD04_3K.A2000055.1710.061.2017205183200_map.png'), PosixPath('/mnt/Rdata/MODIS_AOD/Aerosol/MOD04_3K/2000/055/MOD04_3K.A2000055.1715.061.2017205183042_hist.png'), PosixPath('/mnt/Rdata/MODIS_AOD/Aerosol/MOD04_3K/2000/055/MOD04_3K.A2000055.1715.061.2017205183042_map.png'), PosixPath('/mnt/Rdata/MODIS_AOD/Aerosol/MOD04_3K/2000/055/MOD04_3K.A2000055.1720.061.2017205183746_hist.png'), PosixPath('/mnt/Rdata/MODIS_AOD/Aerosol/MOD04_3K/2000/055/MOD04_3K.A2000055.1720.061.2017205183746_map.png'), PosixPath('/mnt/Rdata/MODIS_AOD/Aerosol/MOD04_3K/2000/055/MOD04_3K.A2000055.1825.061.2017205183453_hist.png'), PosixPath('/mnt/Rdata/MODIS_AOD/Aerosol/MOD04_3K/2000/055/MOD04_3K.A2000055.1825.061.2017205183453_map.png'), PosixPath('/mnt/Rdata/MODIS_AOD/Aerosol/MOD04_3K/2000/055/MOD04_3K.A2000055.1830.061.2017205183207_hist.png'), PosixPath('/mnt/Rdata/MODIS_AOD/Aerosol/MOD04_3K/2000/055/MOD04_3K.A2000055.1830.061.2017205183207_map.png'), PosixPath('/mnt/Rdata/MODIS_AOD/Aerosol/MOD04_3K/2000/055/MOD04_3K.A2000055.1835.061.2017205183003_hist.png'), PosixPath('/mnt/Rdata/MODIS_AOD/Aerosol/MOD04_3K/2000/055/MOD04_3K.A2000055.1835.061.2017205183003_map.png'), PosixPath('/mnt/Rdata/MODIS_AOD/Aerosol/MOD04_3K/2000/055/MOD04_3K.A2000055.1840.061.2017205183343_hist.png'), PosixPath('/mnt/Rdata/MODIS_AOD/Aerosol/MOD04_3K/2000/055/MOD04_3K.A2000055.1840.061.2017205183343_map.png'), PosixPath('/mnt/Rdata/MODIS_AOD/Aerosol/MOD04_3K/2000/055/MOD04_3K.A2000055.1845.061.2017205183244_hist.png'), PosixPath('/mnt/Rdata/MODIS_AOD/Aerosol/MOD04_3K/2000/055/MOD04_3K.A2000055.1845.061.2017205183244_map.png'), PosixPath('/mnt/Rdata/MODIS_AOD/Aerosol/MOD04_3K/2000/055/MOD04_3K.A2000055.1850.061.2017205183010_hist.png'), PosixPath('/mnt/Rdata/MODIS_AOD/Aerosol/MOD04_3K/2000/055/MOD04_3K.A2000055.1850.061.2017205183010_map.png'), PosixPath('/mnt/Rdata/MODIS_AOD/Aerosol/MOD04_3K/2000/055/MOD04_3K.A2000055.1855.061.2017205183254_hist.png'), PosixPath('/mnt/Rdata/MODIS_AOD/Aerosol/MOD04_3K/2000/055/MOD04_3K.A2000055.1855.061.2017205183254_map.png'), PosixPath('/mnt/Rdata/MODIS_AOD/Aerosol/MOD04_3K/2000/055/MOD04_3K.A2000055.1900.061.2017205183218_hist.png'), PosixPath('/mnt/Rdata/MODIS_AOD/Aerosol/MOD04_3K/2000/055/MOD04_3K.A2000055.1900.061.2017205183218_map.png'), PosixPath('/mnt/Rdata/MODIS_AOD/Aerosol/MOD04_3K/2000/055/MOD04_3K.A2000055.2000.061.2017205183025_hist.png'), PosixPath('/mnt/Rdata/MODIS_AOD/Aerosol/MOD04_3K/2000/055/MOD04_3K.A2000055.2000.061.2017205183025_map.png'), PosixPath('/mnt/Rdata/MODIS_AOD/Aerosol/MOD04_3K/2000/055/MOD04_3K.A2000055.2005.061.2017205183039_hist.png'), PosixPath('/mnt/Rdata/MODIS_AOD/Aerosol/MOD04_3K/2000/055/MOD04_3K.A2000055.2005.061.2017205183039_map.png'), PosixPath('/mnt/Rdata/MODIS_AOD/Aerosol/MOD04_3K/2000/055/MOD04_3K.A2000055.2010.061.2017205183226_hist.png'), PosixPath('/mnt/Rdata/MODIS_AOD/Aerosol/MOD04_3K/2000/055/MOD04_3K.A2000055.2010.061.2017205183226_map.png'), PosixPath('/mnt/Rdata/MODIS_AOD/Aerosol/MOD04_3K/2000/055/MOD04_3K.A2000055.2015.061.2017205183042_hist.png'), PosixPath('/mnt/Rdata/MODIS_AOD/Aerosol/MOD04_3K/2000/055/MOD04_3K.A2000055.2015.061.2017205183042_map.png'), PosixPath('/mnt/Rdata/MODIS_AOD/Aerosol/MOD04_3K/2000/055/MOD04_3K.A2000055.2020.061.2017205183714_hist.png'), PosixPath('/mnt/Rdata/MODIS_AOD/Aerosol/MOD04_3K/2000/055/MOD04_3K.A2000055.2020.061.2017205183714_map.png'), PosixPath('/mnt/Rdata/MODIS_AOD/Aerosol/MOD04_3K/2000/055/MOD04_3K.A2000055.2025.061.2017205183644_hist.png'), PosixPath('/mnt/Rdata/MODIS_AOD/Aerosol/MOD04_3K/2000/055/MOD04_3K.A2000055.2025.061.2017205183644_map.png'), PosixPath('/mnt/Rdata/MODIS_AOD/Aerosol/MOD04_3K/2000/055/MOD04_3K.A2000055.2030.061.2017205183840_hist.png'), PosixPath('/mnt/Rdata/MODIS_AOD/Aerosol/MOD04_3K/2000/055/MOD04_3K.A2000055.2030.061.2017205183840_map.png'), PosixPath('/mnt/Rdata/MODIS_AOD/Aerosol/MOD04_3K/2000/055/MOD04_3K.A2000055.2035.061.2017205183856_hist.png'), PosixPath('/mnt/Rdata/MODIS_AOD/Aerosol/MOD04_3K/2000/055/MOD04_3K.A2000055.2035.061.2017205183856_map.png'), PosixPath('/mnt/Rdata/MODIS_AOD/Aerosol/MOD04_3K/2000/055/MOD04_3K.A2000055.2040.061.2017205183417_hist.png'), PosixPath('/mnt/Rdata/MODIS_AOD/Aerosol/MOD04_3K/2000/055/MOD04_3K.A2000055.2040.061.2017205183417_map.png'), PosixPath('/mnt/Rdata/MODIS_AOD/Aerosol/MOD04_3K/2000/055/MOD04_3K.A2000055.2135.061.2017205183550_hist.png'), PosixPath('/mnt/Rdata/MODIS_AOD/Aerosol/MOD04_3K/2000/055/MOD04_3K.A2000055.2135.061.2017205183550_map.png'), PosixPath('/mnt/Rdata/MODIS_AOD/Aerosol/MOD04_3K/2000/055/MOD04_3K.A2000055.2140.061.2017205183302_hist.png'), PosixPath('/mnt/Rdata/MODIS_AOD/Aerosol/MOD04_3K/2000/055/MOD04_3K.A2000055.2140.061.2017205183302_map.png'), PosixPath('/mnt/Rdata/MODIS_AOD/Aerosol/MOD04_3K/2000/055/MOD04_3K.A2000055.2145.061.2017205183748_hist.png'), PosixPath('/mnt/Rdata/MODIS_AOD/Aerosol/MOD04_3K/2000/055/MOD04_3K.A2000055.2145.061.2017205183748_map.png'), PosixPath('/mnt/Rdata/MODIS_AOD/Aerosol/MOD04_3K/2000/055/MOD04_3K.A2000055.2150.061.2017205183441_hist.png'), PosixPath('/mnt/Rdata/MODIS_AOD/Aerosol/MOD04_3K/2000/055/MOD04_3K.A2000055.2150.061.2017205183441_map.png'), PosixPath('/mnt/Rdata/MODIS_AOD/Aerosol/MOD04_3K/2000/055/MOD04_3K.A2000055.2155.061.2017205183626_hist.png'), PosixPath('/mnt/Rdata/MODIS_AOD/Aerosol/MOD04_3K/2000/055/MOD04_3K.A2000055.2155.061.2017205183626_map.png'), PosixPath('/mnt/Rdata/MODIS_AOD/Aerosol/MOD04_3K/2000/055/MOD04_3K.A2000055.2200.061.2017205183821_hist.png'), PosixPath('/mnt/Rdata/MODIS_AOD/Aerosol/MOD04_3K/2000/055/MOD04_3K.A2000055.2200.061.2017205183821_map.png'), PosixPath('/mnt/Rdata/MODIS_AOD/Aerosol/MOD04_3K/2000/055/MOD04_3K.A2000055.2205.061.2017205183212_hist.png'), PosixPath('/mnt/Rdata/MODIS_AOD/Aerosol/MOD04_3K/2000/055/MOD04_3K.A2000055.2205.061.2017205183212_map.png'), PosixPath('/mnt/Rdata/MODIS_AOD/Aerosol/MOD04_3K/2000/055/MOD04_3K.A2000055.2210.061.2017205183009_hist.png'), PosixPath('/mnt/Rdata/MODIS_AOD/Aerosol/MOD04_3K/2000/055/MOD04_3K.A2000055.2210.061.2017205183009_map.png'), PosixPath('/mnt/Rdata/MODIS_AOD/Aerosol/MOD04_3K/2000/055/MOD04_3K.A2000055.2215.061.2017205183408_hist.png'), PosixPath('/mnt/Rdata/MODIS_AOD/Aerosol/MOD04_3K/2000/055/MOD04_3K.A2000055.2215.061.2017205183408_map.png'), PosixPath('/mnt/Rdata/MODIS_AOD/Aerosol/MOD04_3K/2000/055/MOD04_3K.A2000055.2315.061.2017205182947_hist.png'), PosixPath('/mnt/Rdata/MODIS_AOD/Aerosol/MOD04_3K/2000/055/MOD04_3K.A2000055.2315.061.2017205182947_map.png'), PosixPath('/mnt/Rdata/MODIS_AOD/Aerosol/MOD04_3K/2000/055/MOD04_3K.A2000055.2320.061.2017205183448_hist.png'), PosixPath('/mnt/Rdata/MODIS_AOD/Aerosol/MOD04_3K/2000/055/MOD04_3K.A2000055.2320.061.2017205183448_map.png'), PosixPath('/mnt/Rdata/MODIS_AOD/Aerosol/MOD04_3K/2000/055/MOD04_3K.A2000055.2325.061.2017205183031_hist.png'), PosixPath('/mnt/Rdata/MODIS_AOD/Aerosol/MOD04_3K/2000/055/MOD04_3K.A2000055.2325.061.2017205183031_map.png'), PosixPath('/mnt/Rdata/MODIS_AOD/Aerosol/MOD04_3K/2000/055/MOD04_3K.A2000055.2330.061.2017205183742_hist.png'), PosixPath('/mnt/Rdata/MODIS_AOD/Aerosol/MOD04_3K/2000/055/MOD04_3K.A2000055.2330.061.2017205183742_map.png'), PosixPath('/mnt/Rdata/MODIS_AOD/Aerosol/MOD04_3K/2000/055/MOD04_3K.A2000055.2335.061.2017205183316_hist.png'), PosixPath('/mnt/Rdata/MODIS_AOD/Aerosol/MOD04_3K/2000/055/MOD04_3K.A2000055.2335.061.2017205183316_map.png'), PosixPath('/mnt/Rdata/MODIS_AOD/Aerosol/MOD04_3K/2000/055/MOD04_3K.A2000055.2340.061.2017205183434_hist.png'), PosixPath('/mnt/Rdata/MODIS_AOD/Aerosol/MOD04_3K/2000/055/MOD04_3K.A2000055.2340.061.2017205183434_map.png'), PosixPath('/mnt/Rdata/MODIS_AOD/Aerosol/MOD04_3K/2000/055/MOD04_3K.A2000055.2345.061.2017205183948_hist.png'), PosixPath('/mnt/Rdata/MODIS_AOD/Aerosol/MOD04_3K/2000/055/MOD04_3K.A2000055.2345.061.2017205183948_map.png'), PosixPath('/mnt/Rdata/MODIS_AOD/Aerosol/MOD04_3K/2000/055/MOD04_3K.A2000055.2350.061.2017205183717_hist.png'), PosixPath('/mnt/Rdata/MODIS_AOD/Aerosol/MOD04_3K/2000/055/MOD04_3K.A2000055.2350.061.2017205183717_map.png'), PosixPath('/mnt/Rdata/MODIS_AOD/Aerosol/MOD04_3K/2000/055/MOD04_3K.A2000055.2355.061.2017205182932_hist.png'), PosixPath('/mnt/Rdata/MODIS_AOD/Aerosol/MOD04_3K/2000/055/MOD04_3K.A2000055.2355.061.2017205182932_map.png')]\""
     ]
    }
   ],
   "source": [
    "import os\n",
    "\n",
    "DOINGDIR = DOINGDIRs[0]\n",
    "#DOINGDIR = Path(DOINGDIR)\n",
    "print(DOINGDIR)\n",
    "YDDIRs = sorted(_Python_utilities.getFullnameListOfsubDirs(DOINGDIR))\n",
    "\n",
    "for YDDIR in YDDIRs:\n",
    "    YDDIR = Path(YDDIR)\n",
    "    print(YDDIR)\n",
    "    fpaths = sorted(list(YDDIR.glob('*.png')))\n",
    "    print(fpaths)\n",
    "    for fpath in fpaths:\n",
    "        os.remove(str(fpath))\n",
    "        print(f\"{str(fpath.stem)} is deleted...\")\n"
   ]
  },
  {
   "cell_type": "code",
   "execution_count": null,
   "metadata": {},
   "outputs": [
    {
     "name": "stdout",
     "output_type": "stream",
     "text": [
      "/mnt/Rdata/MODIS_AOD/Aerosol/MOD04_3K/2000\n",
      "[PosixPath('/mnt/Rdata/MODIS_AOD/Aerosol/MOD04_3K/2000/055.csv'), PosixPath('/mnt/Rdata/MODIS_AOD/Aerosol/MOD04_3K/2000/056.csv'), PosixPath('/mnt/Rdata/MODIS_AOD/Aerosol/MOD04_3K/2000/057.csv'), PosixPath('/mnt/Rdata/MODIS_AOD/Aerosol/MOD04_3K/2000/058.csv'), PosixPath('/mnt/Rdata/MODIS_AOD/Aerosol/MOD04_3K/2000/059.csv'), PosixPath('/mnt/Rdata/MODIS_AOD/Aerosol/MOD04_3K/2000/060.csv'), PosixPath('/mnt/Rdata/MODIS_AOD/Aerosol/MOD04_3K/2000/061.csv'), PosixPath('/mnt/Rdata/MODIS_AOD/Aerosol/MOD04_3K/2000/062.csv'), PosixPath('/mnt/Rdata/MODIS_AOD/Aerosol/MOD04_3K/2000/063.csv'), PosixPath('/mnt/Rdata/MODIS_AOD/Aerosol/MOD04_3K/2000/064.csv'), PosixPath('/mnt/Rdata/MODIS_AOD/Aerosol/MOD04_3K/2000/065.csv'), PosixPath('/mnt/Rdata/MODIS_AOD/Aerosol/MOD04_3K/2000/066.csv'), PosixPath('/mnt/Rdata/MODIS_AOD/Aerosol/MOD04_3K/2000/067.csv'), PosixPath('/mnt/Rdata/MODIS_AOD/Aerosol/MOD04_3K/2000/068.csv'), PosixPath('/mnt/Rdata/MODIS_AOD/Aerosol/MOD04_3K/2000/069.csv'), PosixPath('/mnt/Rdata/MODIS_AOD/Aerosol/MOD04_3K/2000/070.csv'), PosixPath('/mnt/Rdata/MODIS_AOD/Aerosol/MOD04_3K/2000/071.csv'), PosixPath('/mnt/Rdata/MODIS_AOD/Aerosol/MOD04_3K/2000/072.csv'), PosixPath('/mnt/Rdata/MODIS_AOD/Aerosol/MOD04_3K/2000/073.csv'), PosixPath('/mnt/Rdata/MODIS_AOD/Aerosol/MOD04_3K/2000/074.csv'), PosixPath('/mnt/Rdata/MODIS_AOD/Aerosol/MOD04_3K/2000/075.csv'), PosixPath('/mnt/Rdata/MODIS_AOD/Aerosol/MOD04_3K/2000/076.csv'), PosixPath('/mnt/Rdata/MODIS_AOD/Aerosol/MOD04_3K/2000/077.csv'), PosixPath('/mnt/Rdata/MODIS_AOD/Aerosol/MOD04_3K/2000/078.csv'), PosixPath('/mnt/Rdata/MODIS_AOD/Aerosol/MOD04_3K/2000/079.csv'), PosixPath('/mnt/Rdata/MODIS_AOD/Aerosol/MOD04_3K/2000/080.csv'), PosixPath('/mnt/Rdata/MODIS_AOD/Aerosol/MOD04_3K/2000/081.csv'), PosixPath('/mnt/Rdata/MODIS_AOD/Aerosol/MOD04_3K/2000/082.csv'), PosixPath('/mnt/Rdata/MODIS_AOD/Aerosol/MOD04_3K/2000/083.csv'), PosixPath('/mnt/Rdata/MODIS_AOD/Aerosol/MOD04_3K/2000/084.csv'), PosixPath('/mnt/Rdata/MODIS_AOD/Aerosol/MOD04_3K/2000/085.csv'), PosixPath('/mnt/Rdata/MODIS_AOD/Aerosol/MOD04_3K/2000/086.csv'), PosixPath('/mnt/Rdata/MODIS_AOD/Aerosol/MOD04_3K/2000/087.csv'), PosixPath('/mnt/Rdata/MODIS_AOD/Aerosol/MOD04_3K/2000/088.csv'), PosixPath('/mnt/Rdata/MODIS_AOD/Aerosol/MOD04_3K/2000/089.csv'), PosixPath('/mnt/Rdata/MODIS_AOD/Aerosol/MOD04_3K/2000/090.csv'), PosixPath('/mnt/Rdata/MODIS_AOD/Aerosol/MOD04_3K/2000/091.csv'), PosixPath('/mnt/Rdata/MODIS_AOD/Aerosol/MOD04_3K/2000/092.csv'), PosixPath('/mnt/Rdata/MODIS_AOD/Aerosol/MOD04_3K/2000/093.csv'), PosixPath('/mnt/Rdata/MODIS_AOD/Aerosol/MOD04_3K/2000/094.csv'), PosixPath('/mnt/Rdata/MODIS_AOD/Aerosol/MOD04_3K/2000/095.csv'), PosixPath('/mnt/Rdata/MODIS_AOD/Aerosol/MOD04_3K/2000/096.csv'), PosixPath('/mnt/Rdata/MODIS_AOD/Aerosol/MOD04_3K/2000/097.csv'), PosixPath('/mnt/Rdata/MODIS_AOD/Aerosol/MOD04_3K/2000/098.csv'), PosixPath('/mnt/Rdata/MODIS_AOD/Aerosol/MOD04_3K/2000/099.csv'), PosixPath('/mnt/Rdata/MODIS_AOD/Aerosol/MOD04_3K/2000/100.csv'), PosixPath('/mnt/Rdata/MODIS_AOD/Aerosol/MOD04_3K/2000/101.csv'), PosixPath('/mnt/Rdata/MODIS_AOD/Aerosol/MOD04_3K/2000/102.csv'), PosixPath('/mnt/Rdata/MODIS_AOD/Aerosol/MOD04_3K/2000/103.csv'), PosixPath('/mnt/Rdata/MODIS_AOD/Aerosol/MOD04_3K/2000/104.csv'), PosixPath('/mnt/Rdata/MODIS_AOD/Aerosol/MOD04_3K/2000/105.csv'), PosixPath('/mnt/Rdata/MODIS_AOD/Aerosol/MOD04_3K/2000/106.csv'), PosixPath('/mnt/Rdata/MODIS_AOD/Aerosol/MOD04_3K/2000/107.csv'), PosixPath('/mnt/Rdata/MODIS_AOD/Aerosol/MOD04_3K/2000/108.csv'), PosixPath('/mnt/Rdata/MODIS_AOD/Aerosol/MOD04_3K/2000/109.csv'), PosixPath('/mnt/Rdata/MODIS_AOD/Aerosol/MOD04_3K/2000/110.csv'), PosixPath('/mnt/Rdata/MODIS_AOD/Aerosol/MOD04_3K/2000/111.csv'), PosixPath('/mnt/Rdata/MODIS_AOD/Aerosol/MOD04_3K/2000/112.csv'), PosixPath('/mnt/Rdata/MODIS_AOD/Aerosol/MOD04_3K/2000/113.csv'), PosixPath('/mnt/Rdata/MODIS_AOD/Aerosol/MOD04_3K/2000/114.csv'), PosixPath('/mnt/Rdata/MODIS_AOD/Aerosol/MOD04_3K/2000/115.csv'), PosixPath('/mnt/Rdata/MODIS_AOD/Aerosol/MOD04_3K/2000/116.csv'), PosixPath('/mnt/Rdata/MODIS_AOD/Aerosol/MOD04_3K/2000/117.csv'), PosixPath('/mnt/Rdata/MODIS_AOD/Aerosol/MOD04_3K/2000/118.csv'), PosixPath('/mnt/Rdata/MODIS_AOD/Aerosol/MOD04_3K/2000/119.csv'), PosixPath('/mnt/Rdata/MODIS_AOD/Aerosol/MOD04_3K/2000/120.csv'), PosixPath('/mnt/Rdata/MODIS_AOD/Aerosol/MOD04_3K/2000/121.csv'), PosixPath('/mnt/Rdata/MODIS_AOD/Aerosol/MOD04_3K/2000/122.csv'), PosixPath('/mnt/Rdata/MODIS_AOD/Aerosol/MOD04_3K/2000/123.csv'), PosixPath('/mnt/Rdata/MODIS_AOD/Aerosol/MOD04_3K/2000/124.csv'), PosixPath('/mnt/Rdata/MODIS_AOD/Aerosol/MOD04_3K/2000/125.csv'), PosixPath('/mnt/Rdata/MODIS_AOD/Aerosol/MOD04_3K/2000/126.csv'), PosixPath('/mnt/Rdata/MODIS_AOD/Aerosol/MOD04_3K/2000/127.csv'), PosixPath('/mnt/Rdata/MODIS_AOD/Aerosol/MOD04_3K/2000/128.csv'), PosixPath('/mnt/Rdata/MODIS_AOD/Aerosol/MOD04_3K/2000/129.csv'), PosixPath('/mnt/Rdata/MODIS_AOD/Aerosol/MOD04_3K/2000/130.csv'), PosixPath('/mnt/Rdata/MODIS_AOD/Aerosol/MOD04_3K/2000/131.csv'), PosixPath('/mnt/Rdata/MODIS_AOD/Aerosol/MOD04_3K/2000/132.csv'), PosixPath('/mnt/Rdata/MODIS_AOD/Aerosol/MOD04_3K/2000/133.csv'), PosixPath('/mnt/Rdata/MODIS_AOD/Aerosol/MOD04_3K/2000/134.csv'), PosixPath('/mnt/Rdata/MODIS_AOD/Aerosol/MOD04_3K/2000/135.csv'), PosixPath('/mnt/Rdata/MODIS_AOD/Aerosol/MOD04_3K/2000/136.csv'), PosixPath('/mnt/Rdata/MODIS_AOD/Aerosol/MOD04_3K/2000/137.csv'), PosixPath('/mnt/Rdata/MODIS_AOD/Aerosol/MOD04_3K/2000/138.csv'), PosixPath('/mnt/Rdata/MODIS_AOD/Aerosol/MOD04_3K/2000/139.csv'), PosixPath('/mnt/Rdata/MODIS_AOD/Aerosol/MOD04_3K/2000/140.csv'), PosixPath('/mnt/Rdata/MODIS_AOD/Aerosol/MOD04_3K/2000/141.csv'), PosixPath('/mnt/Rdata/MODIS_AOD/Aerosol/MOD04_3K/2000/142.csv'), PosixPath('/mnt/Rdata/MODIS_AOD/Aerosol/MOD04_3K/2000/143.csv'), PosixPath('/mnt/Rdata/MODIS_AOD/Aerosol/MOD04_3K/2000/144.csv'), PosixPath('/mnt/Rdata/MODIS_AOD/Aerosol/MOD04_3K/2000/145.csv'), PosixPath('/mnt/Rdata/MODIS_AOD/Aerosol/MOD04_3K/2000/146.csv'), PosixPath('/mnt/Rdata/MODIS_AOD/Aerosol/MOD04_3K/2000/147.csv'), PosixPath('/mnt/Rdata/MODIS_AOD/Aerosol/MOD04_3K/2000/148.csv'), PosixPath('/mnt/Rdata/MODIS_AOD/Aerosol/MOD04_3K/2000/149.csv'), PosixPath('/mnt/Rdata/MODIS_AOD/Aerosol/MOD04_3K/2000/150.csv'), PosixPath('/mnt/Rdata/MODIS_AOD/Aerosol/MOD04_3K/2000/151.csv'), PosixPath('/mnt/Rdata/MODIS_AOD/Aerosol/MOD04_3K/2000/152.csv'), PosixPath('/mnt/Rdata/MODIS_AOD/Aerosol/MOD04_3K/2000/153.csv'), PosixPath('/mnt/Rdata/MODIS_AOD/Aerosol/MOD04_3K/2000/154.csv'), PosixPath('/mnt/Rdata/MODIS_AOD/Aerosol/MOD04_3K/2000/155.csv'), PosixPath('/mnt/Rdata/MODIS_AOD/Aerosol/MOD04_3K/2000/156.csv'), PosixPath('/mnt/Rdata/MODIS_AOD/Aerosol/MOD04_3K/2000/157.csv'), PosixPath('/mnt/Rdata/MODIS_AOD/Aerosol/MOD04_3K/2000/158.csv'), PosixPath('/mnt/Rdata/MODIS_AOD/Aerosol/MOD04_3K/2000/159.csv'), PosixPath('/mnt/Rdata/MODIS_AOD/Aerosol/MOD04_3K/2000/160.csv'), PosixPath('/mnt/Rdata/MODIS_AOD/Aerosol/MOD04_3K/2000/161.csv'), PosixPath('/mnt/Rdata/MODIS_AOD/Aerosol/MOD04_3K/2000/162.csv'), PosixPath('/mnt/Rdata/MODIS_AOD/Aerosol/MOD04_3K/2000/163.csv'), PosixPath('/mnt/Rdata/MODIS_AOD/Aerosol/MOD04_3K/2000/164.csv'), PosixPath('/mnt/Rdata/MODIS_AOD/Aerosol/MOD04_3K/2000/165.csv'), PosixPath('/mnt/Rdata/MODIS_AOD/Aerosol/MOD04_3K/2000/166.csv'), PosixPath('/mnt/Rdata/MODIS_AOD/Aerosol/MOD04_3K/2000/167.csv'), PosixPath('/mnt/Rdata/MODIS_AOD/Aerosol/MOD04_3K/2000/168.csv'), PosixPath('/mnt/Rdata/MODIS_AOD/Aerosol/MOD04_3K/2000/169.csv'), PosixPath('/mnt/Rdata/MODIS_AOD/Aerosol/MOD04_3K/2000/170.csv'), PosixPath('/mnt/Rdata/MODIS_AOD/Aerosol/MOD04_3K/2000/171.csv'), PosixPath('/mnt/Rdata/MODIS_AOD/Aerosol/MOD04_3K/2000/172.csv'), PosixPath('/mnt/Rdata/MODIS_AOD/Aerosol/MOD04_3K/2000/173.csv'), PosixPath('/mnt/Rdata/MODIS_AOD/Aerosol/MOD04_3K/2000/174.csv'), PosixPath('/mnt/Rdata/MODIS_AOD/Aerosol/MOD04_3K/2000/175.csv'), PosixPath('/mnt/Rdata/MODIS_AOD/Aerosol/MOD04_3K/2000/176.csv'), PosixPath('/mnt/Rdata/MODIS_AOD/Aerosol/MOD04_3K/2000/177.csv'), PosixPath('/mnt/Rdata/MODIS_AOD/Aerosol/MOD04_3K/2000/178.csv'), PosixPath('/mnt/Rdata/MODIS_AOD/Aerosol/MOD04_3K/2000/179.csv'), PosixPath('/mnt/Rdata/MODIS_AOD/Aerosol/MOD04_3K/2000/180.csv'), PosixPath('/mnt/Rdata/MODIS_AOD/Aerosol/MOD04_3K/2000/181.csv'), PosixPath('/mnt/Rdata/MODIS_AOD/Aerosol/MOD04_3K/2000/182.csv'), PosixPath('/mnt/Rdata/MODIS_AOD/Aerosol/MOD04_3K/2000/183.csv'), PosixPath('/mnt/Rdata/MODIS_AOD/Aerosol/MOD04_3K/2000/184.csv'), PosixPath('/mnt/Rdata/MODIS_AOD/Aerosol/MOD04_3K/2000/185.csv'), PosixPath('/mnt/Rdata/MODIS_AOD/Aerosol/MOD04_3K/2000/186.csv'), PosixPath('/mnt/Rdata/MODIS_AOD/Aerosol/MOD04_3K/2000/187.csv'), PosixPath('/mnt/Rdata/MODIS_AOD/Aerosol/MOD04_3K/2000/188.csv'), PosixPath('/mnt/Rdata/MODIS_AOD/Aerosol/MOD04_3K/2000/189.csv'), PosixPath('/mnt/Rdata/MODIS_AOD/Aerosol/MOD04_3K/2000/190.csv'), PosixPath('/mnt/Rdata/MODIS_AOD/Aerosol/MOD04_3K/2000/191.csv'), PosixPath('/mnt/Rdata/MODIS_AOD/Aerosol/MOD04_3K/2000/192.csv'), PosixPath('/mnt/Rdata/MODIS_AOD/Aerosol/MOD04_3K/2000/193.csv'), PosixPath('/mnt/Rdata/MODIS_AOD/Aerosol/MOD04_3K/2000/194.csv'), PosixPath('/mnt/Rdata/MODIS_AOD/Aerosol/MOD04_3K/2000/195.csv'), PosixPath('/mnt/Rdata/MODIS_AOD/Aerosol/MOD04_3K/2000/196.csv'), PosixPath('/mnt/Rdata/MODIS_AOD/Aerosol/MOD04_3K/2000/197.csv'), PosixPath('/mnt/Rdata/MODIS_AOD/Aerosol/MOD04_3K/2000/198.csv'), PosixPath('/mnt/Rdata/MODIS_AOD/Aerosol/MOD04_3K/2000/199.csv'), PosixPath('/mnt/Rdata/MODIS_AOD/Aerosol/MOD04_3K/2000/200.csv'), PosixPath('/mnt/Rdata/MODIS_AOD/Aerosol/MOD04_3K/2000/201.csv'), PosixPath('/mnt/Rdata/MODIS_AOD/Aerosol/MOD04_3K/2000/202.csv'), PosixPath('/mnt/Rdata/MODIS_AOD/Aerosol/MOD04_3K/2000/203.csv'), PosixPath('/mnt/Rdata/MODIS_AOD/Aerosol/MOD04_3K/2000/204.csv'), PosixPath('/mnt/Rdata/MODIS_AOD/Aerosol/MOD04_3K/2000/205.csv'), PosixPath('/mnt/Rdata/MODIS_AOD/Aerosol/MOD04_3K/2000/206.csv'), PosixPath('/mnt/Rdata/MODIS_AOD/Aerosol/MOD04_3K/2000/207.csv'), PosixPath('/mnt/Rdata/MODIS_AOD/Aerosol/MOD04_3K/2000/208.csv'), PosixPath('/mnt/Rdata/MODIS_AOD/Aerosol/MOD04_3K/2000/209.csv'), PosixPath('/mnt/Rdata/MODIS_AOD/Aerosol/MOD04_3K/2000/210.csv'), PosixPath('/mnt/Rdata/MODIS_AOD/Aerosol/MOD04_3K/2000/211.csv'), PosixPath('/mnt/Rdata/MODIS_AOD/Aerosol/MOD04_3K/2000/212.csv'), PosixPath('/mnt/Rdata/MODIS_AOD/Aerosol/MOD04_3K/2000/213.csv'), PosixPath('/mnt/Rdata/MODIS_AOD/Aerosol/MOD04_3K/2000/214.csv'), PosixPath('/mnt/Rdata/MODIS_AOD/Aerosol/MOD04_3K/2000/215.csv'), PosixPath('/mnt/Rdata/MODIS_AOD/Aerosol/MOD04_3K/2000/216.csv'), PosixPath('/mnt/Rdata/MODIS_AOD/Aerosol/MOD04_3K/2000/217.csv'), PosixPath('/mnt/Rdata/MODIS_AOD/Aerosol/MOD04_3K/2000/218.csv'), PosixPath('/mnt/Rdata/MODIS_AOD/Aerosol/MOD04_3K/2000/231.csv'), PosixPath('/mnt/Rdata/MODIS_AOD/Aerosol/MOD04_3K/2000/232.csv'), PosixPath('/mnt/Rdata/MODIS_AOD/Aerosol/MOD04_3K/2000/233.csv'), PosixPath('/mnt/Rdata/MODIS_AOD/Aerosol/MOD04_3K/2000/234.csv'), PosixPath('/mnt/Rdata/MODIS_AOD/Aerosol/MOD04_3K/2000/235.csv'), PosixPath('/mnt/Rdata/MODIS_AOD/Aerosol/MOD04_3K/2000/236.csv'), PosixPath('/mnt/Rdata/MODIS_AOD/Aerosol/MOD04_3K/2000/237.csv'), PosixPath('/mnt/Rdata/MODIS_AOD/Aerosol/MOD04_3K/2000/238.csv'), PosixPath('/mnt/Rdata/MODIS_AOD/Aerosol/MOD04_3K/2000/239.csv'), PosixPath('/mnt/Rdata/MODIS_AOD/Aerosol/MOD04_3K/2000/240.csv'), PosixPath('/mnt/Rdata/MODIS_AOD/Aerosol/MOD04_3K/2000/241.csv'), PosixPath('/mnt/Rdata/MODIS_AOD/Aerosol/MOD04_3K/2000/242.csv'), PosixPath('/mnt/Rdata/MODIS_AOD/Aerosol/MOD04_3K/2000/243.csv'), PosixPath('/mnt/Rdata/MODIS_AOD/Aerosol/MOD04_3K/2000/244.csv'), PosixPath('/mnt/Rdata/MODIS_AOD/Aerosol/MOD04_3K/2000/245.csv'), PosixPath('/mnt/Rdata/MODIS_AOD/Aerosol/MOD04_3K/2000/246.csv'), PosixPath('/mnt/Rdata/MODIS_AOD/Aerosol/MOD04_3K/2000/247.csv'), PosixPath('/mnt/Rdata/MODIS_AOD/Aerosol/MOD04_3K/2000/248.csv'), PosixPath('/mnt/Rdata/MODIS_AOD/Aerosol/MOD04_3K/2000/249.csv'), PosixPath('/mnt/Rdata/MODIS_AOD/Aerosol/MOD04_3K/2000/250.csv'), PosixPath('/mnt/Rdata/MODIS_AOD/Aerosol/MOD04_3K/2000/251.csv'), PosixPath('/mnt/Rdata/MODIS_AOD/Aerosol/MOD04_3K/2000/252.csv'), PosixPath('/mnt/Rdata/MODIS_AOD/Aerosol/MOD04_3K/2000/253.csv'), PosixPath('/mnt/Rdata/MODIS_AOD/Aerosol/MOD04_3K/2000/254.csv'), PosixPath('/mnt/Rdata/MODIS_AOD/Aerosol/MOD04_3K/2000/255.csv'), PosixPath('/mnt/Rdata/MODIS_AOD/Aerosol/MOD04_3K/2000/256.csv'), PosixPath('/mnt/Rdata/MODIS_AOD/Aerosol/MOD04_3K/2000/257.csv'), PosixPath('/mnt/Rdata/MODIS_AOD/Aerosol/MOD04_3K/2000/258.csv'), PosixPath('/mnt/Rdata/MODIS_AOD/Aerosol/MOD04_3K/2000/259.csv'), PosixPath('/mnt/Rdata/MODIS_AOD/Aerosol/MOD04_3K/2000/260.csv'), PosixPath('/mnt/Rdata/MODIS_AOD/Aerosol/MOD04_3K/2000/261.csv'), PosixPath('/mnt/Rdata/MODIS_AOD/Aerosol/MOD04_3K/2000/262.csv'), PosixPath('/mnt/Rdata/MODIS_AOD/Aerosol/MOD04_3K/2000/263.csv'), PosixPath('/mnt/Rdata/MODIS_AOD/Aerosol/MOD04_3K/2000/264.csv'), PosixPath('/mnt/Rdata/MODIS_AOD/Aerosol/MOD04_3K/2000/265.csv'), PosixPath('/mnt/Rdata/MODIS_AOD/Aerosol/MOD04_3K/2000/266.csv'), PosixPath('/mnt/Rdata/MODIS_AOD/Aerosol/MOD04_3K/2000/267.csv'), PosixPath('/mnt/Rdata/MODIS_AOD/Aerosol/MOD04_3K/2000/268.csv'), PosixPath('/mnt/Rdata/MODIS_AOD/Aerosol/MOD04_3K/2000/269.csv'), PosixPath('/mnt/Rdata/MODIS_AOD/Aerosol/MOD04_3K/2000/270.csv'), PosixPath('/mnt/Rdata/MODIS_AOD/Aerosol/MOD04_3K/2000/271.csv'), PosixPath('/mnt/Rdata/MODIS_AOD/Aerosol/MOD04_3K/2000/272.csv'), PosixPath('/mnt/Rdata/MODIS_AOD/Aerosol/MOD04_3K/2000/273.csv'), PosixPath('/mnt/Rdata/MODIS_AOD/Aerosol/MOD04_3K/2000/274.csv'), PosixPath('/mnt/Rdata/MODIS_AOD/Aerosol/MOD04_3K/2000/275.csv'), PosixPath('/mnt/Rdata/MODIS_AOD/Aerosol/MOD04_3K/2000/276.csv'), PosixPath('/mnt/Rdata/MODIS_AOD/Aerosol/MOD04_3K/2000/277.csv'), PosixPath('/mnt/Rdata/MODIS_AOD/Aerosol/MOD04_3K/2000/278.csv'), PosixPath('/mnt/Rdata/MODIS_AOD/Aerosol/MOD04_3K/2000/279.csv'), PosixPath('/mnt/Rdata/MODIS_AOD/Aerosol/MOD04_3K/2000/280.csv'), PosixPath('/mnt/Rdata/MODIS_AOD/Aerosol/MOD04_3K/2000/281.csv'), PosixPath('/mnt/Rdata/MODIS_AOD/Aerosol/MOD04_3K/2000/282.csv'), PosixPath('/mnt/Rdata/MODIS_AOD/Aerosol/MOD04_3K/2000/283.csv'), PosixPath('/mnt/Rdata/MODIS_AOD/Aerosol/MOD04_3K/2000/284.csv'), PosixPath('/mnt/Rdata/MODIS_AOD/Aerosol/MOD04_3K/2000/285.csv'), PosixPath('/mnt/Rdata/MODIS_AOD/Aerosol/MOD04_3K/2000/286.csv'), PosixPath('/mnt/Rdata/MODIS_AOD/Aerosol/MOD04_3K/2000/287.csv'), PosixPath('/mnt/Rdata/MODIS_AOD/Aerosol/MOD04_3K/2000/288.csv'), PosixPath('/mnt/Rdata/MODIS_AOD/Aerosol/MOD04_3K/2000/289.csv'), PosixPath('/mnt/Rdata/MODIS_AOD/Aerosol/MOD04_3K/2000/290.csv'), PosixPath('/mnt/Rdata/MODIS_AOD/Aerosol/MOD04_3K/2000/291.csv'), PosixPath('/mnt/Rdata/MODIS_AOD/Aerosol/MOD04_3K/2000/292.csv'), PosixPath('/mnt/Rdata/MODIS_AOD/Aerosol/MOD04_3K/2000/293.csv'), PosixPath('/mnt/Rdata/MODIS_AOD/Aerosol/MOD04_3K/2000/294.csv'), PosixPath('/mnt/Rdata/MODIS_AOD/Aerosol/MOD04_3K/2000/295.csv'), PosixPath('/mnt/Rdata/MODIS_AOD/Aerosol/MOD04_3K/2000/296.csv'), PosixPath('/mnt/Rdata/MODIS_AOD/Aerosol/MOD04_3K/2000/297.csv'), PosixPath('/mnt/Rdata/MODIS_AOD/Aerosol/MOD04_3K/2000/298.csv'), PosixPath('/mnt/Rdata/MODIS_AOD/Aerosol/MOD04_3K/2000/299.csv'), PosixPath('/mnt/Rdata/MODIS_AOD/Aerosol/MOD04_3K/2000/300.csv'), PosixPath('/mnt/Rdata/MODIS_AOD/Aerosol/MOD04_3K/2000/301.csv'), PosixPath('/mnt/Rdata/MODIS_AOD/Aerosol/MOD04_3K/2000/302.csv'), PosixPath('/mnt/Rdata/MODIS_AOD/Aerosol/MOD04_3K/2000/303.csv'), PosixPath('/mnt/Rdata/MODIS_AOD/Aerosol/MOD04_3K/2000/304.csv'), PosixPath('/mnt/Rdata/MODIS_AOD/Aerosol/MOD04_3K/2000/305.csv'), PosixPath('/mnt/Rdata/MODIS_AOD/Aerosol/MOD04_3K/2000/306.csv'), PosixPath('/mnt/Rdata/MODIS_AOD/Aerosol/MOD04_3K/2000/307.csv'), PosixPath('/mnt/Rdata/MODIS_AOD/Aerosol/MOD04_3K/2000/308.csv'), PosixPath('/mnt/Rdata/MODIS_AOD/Aerosol/MOD04_3K/2000/309.csv'), PosixPath('/mnt/Rdata/MODIS_AOD/Aerosol/MOD04_3K/2000/310.csv'), PosixPath('/mnt/Rdata/MODIS_AOD/Aerosol/MOD04_3K/2000/311.csv'), PosixPath('/mnt/Rdata/MODIS_AOD/Aerosol/MOD04_3K/2000/312.csv'), PosixPath('/mnt/Rdata/MODIS_AOD/Aerosol/MOD04_3K/2000/313.csv'), PosixPath('/mnt/Rdata/MODIS_AOD/Aerosol/MOD04_3K/2000/314.csv'), PosixPath('/mnt/Rdata/MODIS_AOD/Aerosol/MOD04_3K/2000/315.csv'), PosixPath('/mnt/Rdata/MODIS_AOD/Aerosol/MOD04_3K/2000/316.csv'), PosixPath('/mnt/Rdata/MODIS_AOD/Aerosol/MOD04_3K/2000/317.csv'), PosixPath('/mnt/Rdata/MODIS_AOD/Aerosol/MOD04_3K/2000/318.csv'), PosixPath('/mnt/Rdata/MODIS_AOD/Aerosol/MOD04_3K/2000/319.csv'), PosixPath('/mnt/Rdata/MODIS_AOD/Aerosol/MOD04_3K/2000/320.csv'), PosixPath('/mnt/Rdata/MODIS_AOD/Aerosol/MOD04_3K/2000/321.csv'), PosixPath('/mnt/Rdata/MODIS_AOD/Aerosol/MOD04_3K/2000/322.csv'), PosixPath('/mnt/Rdata/MODIS_AOD/Aerosol/MOD04_3K/2000/323.csv'), PosixPath('/mnt/Rdata/MODIS_AOD/Aerosol/MOD04_3K/2000/324.csv'), PosixPath('/mnt/Rdata/MODIS_AOD/Aerosol/MOD04_3K/2000/325.csv'), PosixPath('/mnt/Rdata/MODIS_AOD/Aerosol/MOD04_3K/2000/326.csv'), PosixPath('/mnt/Rdata/MODIS_AOD/Aerosol/MOD04_3K/2000/327.csv'), PosixPath('/mnt/Rdata/MODIS_AOD/Aerosol/MOD04_3K/2000/328.csv'), PosixPath('/mnt/Rdata/MODIS_AOD/Aerosol/MOD04_3K/2000/329.csv'), PosixPath('/mnt/Rdata/MODIS_AOD/Aerosol/MOD04_3K/2000/330.csv'), PosixPath('/mnt/Rdata/MODIS_AOD/Aerosol/MOD04_3K/2000/331.csv'), PosixPath('/mnt/Rdata/MODIS_AOD/Aerosol/MOD04_3K/2000/332.csv'), PosixPath('/mnt/Rdata/MODIS_AOD/Aerosol/MOD04_3K/2000/333.csv'), PosixPath('/mnt/Rdata/MODIS_AOD/Aerosol/MOD04_3K/2000/334.csv'), PosixPath('/mnt/Rdata/MODIS_AOD/Aerosol/MOD04_3K/2000/335.csv'), PosixPath('/mnt/Rdata/MODIS_AOD/Aerosol/MOD04_3K/2000/336.csv'), PosixPath('/mnt/Rdata/MODIS_AOD/Aerosol/MOD04_3K/2000/337.csv'), PosixPath('/mnt/Rdata/MODIS_AOD/Aerosol/MOD04_3K/2000/338.csv'), PosixPath('/mnt/Rdata/MODIS_AOD/Aerosol/MOD04_3K/2000/339.csv'), PosixPath('/mnt/Rdata/MODIS_AOD/Aerosol/MOD04_3K/2000/340.csv'), PosixPath('/mnt/Rdata/MODIS_AOD/Aerosol/MOD04_3K/2000/341.csv'), PosixPath('/mnt/Rdata/MODIS_AOD/Aerosol/MOD04_3K/2000/342.csv'), PosixPath('/mnt/Rdata/MODIS_AOD/Aerosol/MOD04_3K/2000/343.csv'), PosixPath('/mnt/Rdata/MODIS_AOD/Aerosol/MOD04_3K/2000/344.csv'), PosixPath('/mnt/Rdata/MODIS_AOD/Aerosol/MOD04_3K/2000/345.csv'), PosixPath('/mnt/Rdata/MODIS_AOD/Aerosol/MOD04_3K/2000/346.csv'), PosixPath('/mnt/Rdata/MODIS_AOD/Aerosol/MOD04_3K/2000/347.csv'), PosixPath('/mnt/Rdata/MODIS_AOD/Aerosol/MOD04_3K/2000/348.csv'), PosixPath('/mnt/Rdata/MODIS_AOD/Aerosol/MOD04_3K/2000/349.csv'), PosixPath('/mnt/Rdata/MODIS_AOD/Aerosol/MOD04_3K/2000/350.csv'), PosixPath('/mnt/Rdata/MODIS_AOD/Aerosol/MOD04_3K/2000/351.csv'), PosixPath('/mnt/Rdata/MODIS_AOD/Aerosol/MOD04_3K/2000/352.csv'), PosixPath('/mnt/Rdata/MODIS_AOD/Aerosol/MOD04_3K/2000/353.csv'), PosixPath('/mnt/Rdata/MODIS_AOD/Aerosol/MOD04_3K/2000/354.csv'), PosixPath('/mnt/Rdata/MODIS_AOD/Aerosol/MOD04_3K/2000/355.csv'), PosixPath('/mnt/Rdata/MODIS_AOD/Aerosol/MOD04_3K/2000/356.csv'), PosixPath('/mnt/Rdata/MODIS_AOD/Aerosol/MOD04_3K/2000/357.csv'), PosixPath('/mnt/Rdata/MODIS_AOD/Aerosol/MOD04_3K/2000/358.csv'), PosixPath('/mnt/Rdata/MODIS_AOD/Aerosol/MOD04_3K/2000/359.csv'), PosixPath('/mnt/Rdata/MODIS_AOD/Aerosol/MOD04_3K/2000/360.csv'), PosixPath('/mnt/Rdata/MODIS_AOD/Aerosol/MOD04_3K/2000/361.csv'), PosixPath('/mnt/Rdata/MODIS_AOD/Aerosol/MOD04_3K/2000/362.csv'), PosixPath('/mnt/Rdata/MODIS_AOD/Aerosol/MOD04_3K/2000/363.csv'), PosixPath('/mnt/Rdata/MODIS_AOD/Aerosol/MOD04_3K/2000/364.csv'), PosixPath('/mnt/Rdata/MODIS_AOD/Aerosol/MOD04_3K/2000/365.csv'), PosixPath('/mnt/Rdata/MODIS_AOD/Aerosol/MOD04_3K/2000/366.csv')]\n"
     ]
    }
   ],
   "source": [
    "DOINGDIR = DOINGDIRs[0]\n",
    "DOINGDIR = Path(DOINGDIR)\n",
    "print(DOINGDIR)\n",
    "fpaths = sorted(list(DOINGDIR.glob('*.csv')))\n",
    "print(fpaths)\n",
    "\n",
    "import pandas as pd\n",
    "\n",
    "df = readcsv\n",
    "\n"
   ]
  },
  {
   "cell_type": "code",
   "execution_count": null,
   "metadata": {},
   "outputs": [],
   "source": [
    "for DOINGDIR in DOINGDIRs[:1] :\n",
    "    DOINGDIR = Path(DOINGDIR)\n",
    "    \n",
    "    t = os.path.getmtime(ccd_fpath)\n",
    "    ccd_fpath_dt = datetime.fromtimestamp(t)\n",
    "    #print(\"ccd_fpath_dt: \", ccd_fpath_dt)\n",
    "    if ccd_fpath.exists() \\\n",
    "        and ccd_fpath_dt < datetime.now() + timedelta(weeks=-2) :\n",
    "        print(f\"{str(ccd_fpath)} is already exist and is not old...\")\n",
    "            \n",
    "    else : \n",
    "        summary_all = pd.DataFrame()\n",
    "\n",
    "        for DOINGSUBDIR in DOINGSUBDIRs[:1] :\n",
    "            DOINGSUBDIR = Path(DOINGSUBDIR)\n",
    "            print(\"DOINGSUBDIR\", DOINGSUBDIR)\n",
    "            fits_in_dir = sorted(list(DOINGSUBDIR.glob('*.fit*')))\n",
    "            print(\"fits_in_dir\", fits_in_dir)\n",
    "            print(\"len(fits_in_dir)\", len(fits_in_dir))\n",
    "            if len(fits_in_dir) == 0 :\n",
    "                print(f\"There is no fits fils in {DOINGSUBDIR}\")\n",
    "                pass\n",
    "            else : \n",
    "                save_fpath2 = DOINGSUBDIR / f\"{DOINGSUBDIR.parts[-1]}.csv\"\n",
    "                save_fpath = DOINGSUBDIR / f\"summary_{DOINGSUBDIR.parts[-1]}.csv\"\n",
    "                print (f\"Starting...\\n{DOINGSUBDIR.name}\")\n",
    "                if save_fpath2.exists():\n",
    "                    os.remove(str(save_fpath2))\n",
    "                    print (f\"{str(save_fpath2)} is deleted...\")\n",
    "                \n",
    "                t = os.path.getmtime(save_fpath)\n",
    "                save_fpath_dt = datetime.fromtimestamp(t)\n",
    "                #print(\"save_fpath_dt: \", save_fpath_dt)\n",
    "                if save_fpath.exists() \\\n",
    "                    and save_fpath_dt < datetime.now() + timedelta(weeks=-2) :\n",
    "                    print(f\"{str(save_fpath)} is already exist and is not old...\")\n",
    "                    summary = pd.read_csv(str(save_fpath))\n",
    "                \n",
    "                else : \n",
    "                    summary = yfu.make_summary(DOINGSUBDIR/\"*.fit*\",\n",
    "                                output = save_fpath,\n",
    "                                verbose = False\n",
    "                                )\n",
    "                    print(f\"{save_fpath} is created...\")\n",
    "                summary_all = pd.concat([summary_all, summary], axis = 0)\n",
    "        \n",
    "        summary_all.reset_index(inplace=True)\n",
    "        summary_all.to_csv(str(ccd_fpath))\n",
    "        print(f\"{ccd_fpath} is created...\")\n",
    "\n",
    "\n",
    "\n",
    "\n",
    "\n",
    "\n",
    "\n",
    "\n",
    "\n",
    "\n",
    "\n",
    "\n",
    "\n",
    "\n",
    "\n",
    "\n",
    "\n",
    "\n",
    "\n",
    "\n",
    "\n",
    "\n",
    "\n",
    "\n",
    "\n",
    "\n",
    "\n",
    "\n",
    "\n",
    "\n",
    "\n",
    "\n",
    "\n",
    "\n",
    "    \n",
    "        "
   ]
  },
  {
   "cell_type": "code",
   "execution_count": null,
   "metadata": {},
   "outputs": [],
   "source": [
    "#%%\n",
    "for DOINGDIR in DOINGDIRs[:2] :\n",
    "    DOINGDIR = Path(DOINGDIR)\n",
    "    DOINGSUBDIRs = sorted(_Python_utilities.getFullnameListOfallsubDirs(str(DOINGDIR)))\n",
    "    ccd_fpath = Path(f\"{DOINGDIR/DOINGDIR.parts[-1]}.csv\")\n",
    "    print(\"ccd_fpath\", ccd_fpath)\n",
    "\n",
    "    if ccd_fpath.exists() or False:\n",
    "        print(f\"{str(ccd_fpath)} is already exist...\")\n",
    "\n",
    "    else : \n",
    "        summary_all = pd.DataFrame()\n",
    "\n",
    "        for DOINGSUBDIR in DOINGSUBDIRs[:10] :\n",
    "            DOINGSUBDIR = Path(DOINGSUBDIR)\n",
    "            print(\"DOINGSUBDIR\", DOINGSUBDIR)\n",
    "            fits_in_dir = sorted(list(DOINGSUBDIR.glob('*.fit*')))\n",
    "            print(\"fits_in_dir\", fits_in_dir)\n",
    "            print(\"len(fits_in_dir)\", len(fits_in_dir))\n",
    "            if len(fits_in_dir) == 0 :\n",
    "                print(f\"There is no fits fils in {DOINGSUBDIR}\")\n",
    "                pass\n",
    "            else : \n",
    "                save_fpath2 = DOINGSUBDIR / f\"{DOINGSUBDIR.parts[-1]}.csv\"\n",
    "                save_fpath = DOINGSUBDIR / f\"summary_{DOINGSUBDIR.parts[-1]}.csv\"\n",
    "                print (f\"Starting...\\n{DOINGSUBDIR.name}\")\n",
    "                if save_fpath2.exists():\n",
    "                    os.remove(str(save_fpath2))\n",
    "                    print (f\"{str(save_fpath2)} is deleted...\")\n",
    "                \n",
    "                if save_fpath.exists():\n",
    "                    print(f\"{str(save_fpath)} is already exist...\")\n",
    "                    summary = pd.read_csv(str(save_fpath))\n",
    "                \n",
    "                else : \n",
    "                    summary = yfu.make_summary(DOINGSUBDIR/\"*.fit*\",\n",
    "                                output = save_fpath,\n",
    "                                verbose = False\n",
    "                                )\n",
    "                    print(f\"{save_fpath} is created...\")\n",
    "                summary_all = pd.concat([summary_all, summary], axis = 0)\n",
    "        \n",
    "        summary_all.reset_index(inplace=True)\n",
    "        summary_all.to_csv(str(ccd_fpath))\n",
    "        print(f\"{ccd_fpath} is created...\")\n"
   ]
  },
  {
   "cell_type": "code",
   "execution_count": null,
   "metadata": {},
   "outputs": [],
   "source": [
    "if len(fits_in_dir) == 0 :\n",
    "    print(f\"There is no fits fils in {DOINGSUBDIR}\")\n",
    "    pass\n",
    "else : \n",
    "    print(\"ccd_fpath\", ccd_fpath)\n"
   ]
  },
  {
   "cell_type": "code",
   "execution_count": null,
   "metadata": {},
   "outputs": [],
   "source": [
    "if ccd_fpath.exists():\n",
    "    print(f\"{BASEDIR/ccd_dir}.csv is already exist...\")\n",
    "else : \n",
    "    summary_all = pd.DataFrame()\n",
    "    "
   ]
  },
  {
   "cell_type": "code",
   "execution_count": null,
   "metadata": {},
   "outputs": [],
   "source": [
    "summary_all = pd.DataFrame()\n",
    "save_fpath2 = fpath/f\"{fpath.parts[-1]}.csv\"\n",
    "save_fpath = fpath/f\"summary_{fpath.parts[-1]}.csv\"\n",
    "print (f\"Starting...\\n{fpath.name}\")\n",
    "if save_fpath2.exists():\n",
    "    os.remove(str(save_fpath2))\n",
    "    print (f\"{str(save_fpath2)} is deleted...\")\n",
    "\n",
    "if save_fpath.exists():\n",
    "    print(f\"{str(save_fpath)} is already exist...\")\n",
    "    summary = pd.read_csv(str(save_fpath))\n",
    "\n",
    "else : \n",
    "    summary = yfu.make_summary(fpath/\"*.fit*\",\n",
    "                output = save_fpath,\n",
    "                verbose = False\n",
    "                )\n",
    "    print(f\"{save_fpath} is created...\")\n",
    "summary_all = pd.concat([summary_all, summary], axis = 0)\n",
    "summary_all.to_csv(f\"{BASEDIR/ccd_dir}.csv\")\n",
    "summary_all.reset_index(inplace=True)\n",
    "print(f\"{BASEDIR/ccd_dir}.csv is created...\")"
   ]
  }
 ],
 "metadata": {
  "kernelspec": {
   "display_name": "astro_Python_ubuntu_env",
   "language": "python",
   "name": "python3"
  },
  "language_info": {
   "codemirror_mode": {
    "name": "ipython",
    "version": 3
   },
   "file_extension": ".py",
   "mimetype": "text/x-python",
   "name": "python",
   "nbconvert_exporter": "python",
   "pygments_lexer": "ipython3",
   "version": "3.12.0"
  },
  "orig_nbformat": 4,
  "vscode": {
   "interpreter": {
    "hash": "73147851ede918c26f741c84bca6ea3575da18885c8fa4aa4a9fbe5902a3c298"
   }
  }
 },
 "nbformat": 4,
 "nbformat_minor": 2
}
