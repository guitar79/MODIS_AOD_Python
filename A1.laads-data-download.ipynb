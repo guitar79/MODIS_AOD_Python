{
 "cells": [
  {
   "attachments": {},
   "cell_type": "markdown",
   "metadata": {},
   "source": [
    "# Read hdf"
   ]
  },
  {
   "attachments": {},
   "cell_type": "markdown",
   "metadata": {},
   "source": [
    "## 필요한 모듈\n",
    "\n",
    "이 프로젝트를 위해서는 아래의 모듈이 필요하다. \n",
    "\n",
    "> , version_information"
   ]
  },
  {
   "attachments": {},
   "cell_type": "markdown",
   "metadata": {},
   "source": [
    "### 모듈 설치\n",
    "\n",
    "1. 콘솔 창에서 모듈을 설치할 때는 아래와 같은 형식으로 입력하면 된다.\n",
    "\n",
    ">pip install module_name==version\n",
    "\n",
    ">conda install module_name==version\n",
    "\n",
    "2. 주피터 노트북(코랩 포함)에 설치 할 때는 아래의 셀을 실행해서 실행되지 않은 모듈을 설치할 수 있다. (pip 기준) 만약 아나콘다 환경을 사용한다면 7행을 콘다 설치 명령어에 맞게 수정하면 된다."
   ]
  },
  {
   "cell_type": "code",
   "execution_count": 1,
   "metadata": {},
   "outputs": [
    {
     "name": "stdout",
     "output_type": "stream",
     "text": [
      "******** numpy module is already installed.\n",
      "******** pandas module is already installed.\n",
      "******** matplotlib module is already installed.\n",
      "******** pyhdf module is already installed.\n",
      "**** version_information module is now installed.\n",
      "This notebook was generated at 2024-07-28 10:26:32 (KST = GMT+0900) \n",
      "0 Python     3.12.2 64bit [GCC 12.3.0]\n",
      "1 IPython    8.26.0\n",
      "2 OS         Linux 5.15.0 113 generic x86_64 with glibc2.31\n",
      "3 numpy      1.26.4\n",
      "4 pandas     2.2.2\n",
      "5 matplotlib 3.8.4\n",
      "6 pyhdf      0.11.4\n",
      "7 version_information 1.0.4\n"
     ]
    }
   ],
   "source": [
    "# Install a pip package in the current Jupyter kernel\n",
    "import importlib, sys, subprocess\n",
    "packages = \"numpy, pandas, matplotlib, pyhdf, version_information\" # required modules\n",
    "pkgs = packages.split(\", \")\n",
    "for pkg in pkgs :\n",
    "    if not importlib.util.find_spec(pkg):\n",
    "        subprocess.check_call([sys.executable, '-m', 'pip', 'install', pkg, '-q'])\n",
    "        print(f\"**** {pkg} module is now installed.\")\n",
    "    else: \n",
    "        print(f\"******** {pkg} module is already installed.\")\n",
    "%load_ext version_information\n",
    "import time\n",
    "now = time.strftime(\"%Y-%m-%d %H:%M:%S (%Z = GMT%z)\")\n",
    "print(f\"This notebook was generated at {now} \")\n",
    "\n",
    "vv = %version_information {packages}\n",
    "for i, pkg in enumerate(vv.packages):\n",
    "    print(f\"{i} {pkg[0]:10s} {pkg[1]:s}\")\n"
   ]
  },
  {
   "attachments": {},
   "cell_type": "markdown",
   "metadata": {},
   "source": [
    "### 모듈 버전 확인\n",
    "\n",
    "아래 셀을 실행하면 이 노트북을 실행한 파이썬 및 관련 모듈의 버전을 확인할 수 있다."
   ]
  },
  {
   "attachments": {},
   "cell_type": "markdown",
   "metadata": {},
   "source": [
    "### import modules"
   ]
  },
  {
   "cell_type": "code",
   "execution_count": 4,
   "metadata": {},
   "outputs": [],
   "source": [
    "from glob import glob\n",
    "from pathlib import Path\n",
    "import os\n",
    "import shutil\n",
    "import numpy as np\n",
    "import _MODIS_AOD_utilities\n",
    "import _Python_utilities\n",
    "\n",
    "from __future__ import (division, print_function, absolute_import, unicode_literals)\n",
    "\n"
   ]
  },
  {
   "cell_type": "code",
   "execution_count": null,
   "metadata": {},
   "outputs": [],
   "source": [
    "# https://ladsweb.modaps.eosdis.nasa.gov/tools-and-services/data-download-scripts/#wget\n",
    "\n",
    "# script supports either python2 or python3. You might need to change the above\n",
    "# line to \"python3\" depending on your installation.\n",
    "#\n",
    "# Attempts to do HTTP Gets with urllib2(py2) urllib.requets(py3) or subprocess\n",
    "# if tlsv1.1+ isn't supported by the python ssl module\n",
    "#\n",
    "# Will download csv or json depending on which python module is available\n",
    "#\n",
    "\n",
    "from __future__ import (division, print_function, absolute_import, unicode_literals)\n",
    "\n",
    "import argparse\n",
    "import os\n",
    "import os.path\n",
    "import shutil\n",
    "import sys\n",
    "import time\n",
    "\n",
    "try:\n",
    "    from StringIO import StringIO   # python2\n",
    "except ImportError:\n",
    "    from io import StringIO         # python3\n",
    "\n"
   ]
  },
  {
   "cell_type": "code",
   "execution_count": 5,
   "metadata": {},
   "outputs": [
    {
     "name": "stdout",
     "output_type": "stream",
     "text": [
      "DATADIR : /mnt/Rdata/MODIS_AOD/Aerosol/MOD04_3K\n"
     ]
    }
   ],
   "source": [
    "#%%\n",
    "#######################################################\n",
    "# read all files in base directory for processing\n",
    "BASEDIR = Path(\"R:\\\\MODIS_AOD\\\\Aerosol\") \n",
    "BASEDIR = Path(\"/mnt/Rdata/MODIS_AOD/Aerosol\") \n",
    "satdata_ID = \"MOD04_3K\"\n",
    "\n",
    "DATADIR = BASEDIR /satdata_ID\n",
    "print (\"DATADIR :\", DATADIR)\n"
   ]
  },
  {
   "cell_type": "code",
   "execution_count": 6,
   "metadata": {},
   "outputs": [],
   "source": [
    "################################################################################\n",
    "\n",
    "# you will need to replace the following line with the location of a\n",
    "# python web client library that can make HTTPS requests to an IP address.\n",
    "USERAGENT = 'tis/download.py_1.0--' + sys.version.replace('\\n','').replace('\\r','')\n",
    "\n",
    "# this is the choice of last resort, when other attempts have failed\n",
    "def getcURL(url, headers=None, out=None):\n",
    "    # OS X Python 2 and 3 don't support tlsv1.1+ therefore... cURL\n",
    "    import subprocess\n",
    "    try:\n",
    "        print('trying cURL', file=sys.stderr)\n",
    "        args = ['curl', '--fail', '-sS', '-L', '-b session', '--get', url]\n",
    "        for (k,v) in headers.items():\n",
    "            args.extend(['-H', ': '.join([k, v])])\n",
    "        if out is None:\n",
    "            # python3's subprocess.check_output returns stdout as a byte string\n",
    "            result = subprocess.check_output(args)\n",
    "            return result.decode('utf-8') if isinstance(result, bytes) else result\n",
    "        else:\n",
    "            subprocess.call(args, stdout=out)\n",
    "    except subprocess.CalledProcessError as e:\n",
    "        print('curl GET error message: %' + (e.message if hasattr(e, 'message') else e.output), file=sys.stderr)\n",
    "    return None\n",
    "    \n",
    "# read the specified URL and output to a file\n",
    "def geturl(url, token=None, out=None):\n",
    "    headers = { 'user-agent' : USERAGENT }\n",
    "    if not token is None:\n",
    "        headers['Authorization'] = 'Bearer ' + token\n",
    "    try:\n",
    "        import ssl\n",
    "        CTX = ssl.SSLContext(ssl.PROTOCOL_TLSv1_2)\n",
    "        if sys.version_info.major == 2:\n",
    "            import urllib2\n",
    "            try:\n",
    "                fh = urllib2.urlopen(urllib2.Request(url, headers=headers), context=CTX)\n",
    "                if out is None:\n",
    "                    return fh.read()\n",
    "                else:\n",
    "                    shutil.copyfileobj(fh, out)\n",
    "            except urllib2.HTTPError as e:\n",
    "                print('TLSv1_2 sys 2 : HTTP GET error code: %d' % e.code, file=sys.stderr)\n",
    "                return getcURL(url, headers, out)\n",
    "            except urllib2.URLError as e:\n",
    "                print('TLSv1_2 sys 2 : Failed to make request: %s, RETRYING' % e.reason, file=sys.stderr)\n",
    "                return getcURL(url, headers, out)\n",
    "            return None\n",
    "\n",
    "        else:\n",
    "            from urllib.request import urlopen, Request, URLError, HTTPError\n",
    "            try:\n",
    "                fh = urlopen(Request(url, headers=headers), context=CTX)\n",
    "                if out is None:\n",
    "                    return fh.read().decode('utf-8')\n",
    "                else:\n",
    "                    shutil.copyfileobj(fh, out)\n",
    "            except HTTPError as e:\n",
    "                print('TLSv1_2 : HTTP GET error code: %d' % e.code, file=sys.stderr)\n",
    "                return getcURL(url, headers, out)\n",
    "            except URLError as e:\n",
    "                print('TLSv1_2 : Failed to make request: %s' % e.reason, file=sys.stderr)\n",
    "                return getcURL(url, headers, out)\n",
    "            return None\n",
    "\n",
    "    except AttributeError:\n",
    "      return getcURL(url, headers, out)\n",
    "\n",
    "\n",
    "################################################################################\n",
    "\n",
    "\n",
    "DESC = \"This script will recursively download all files if they don't exist from a LAADS URL and will store them to the specified path\"\n",
    "\n",
    "\n",
    "def sync(src, dest, tok):\n",
    "    '''synchronize src url with dest directory'''\n",
    "    try:\n",
    "        import csv\n",
    "        files = {}\n",
    "        files['content'] = [ f for f in csv.DictReader(StringIO(geturl('%s.csv' % src, tok)), skipinitialspace=True) ]\n",
    "    except ImportError:\n",
    "        import json\n",
    "        files = json.loads(geturl(src + '.json', tok))\n",
    "    \n",
    "    # use os.path since python 2/3 both support it while pathlib is 3.4+\n",
    "    for f in files['content']:\n",
    "        # currently we use filesize of 0 to indicate directory\n",
    "        filesize = int(f['size'])\n",
    "        path = os.path.join(dest, f['name'])\n",
    "        url = src + '/' + f['name']\n",
    "        if filesize == 0:                 # size FROM RESPONSE\n",
    "            try:\n",
    "                print('creating dir:', path)\n",
    "                os.mkdir(path)\n",
    "                sync(src + '/' + f['name'], path, tok)\n",
    "            except IOError as e:\n",
    "                print(\"mkdir `%s': %s\" % (e.filename, e.strerror), file=sys.stderr)\n",
    "                sys.exit(-1)\n",
    "        else:\n",
    "            try:\n",
    "                if not os.path.exists(path) or os.path.getsize(path) == 0:    # filesize FROM OS\n",
    "                    print('\\ndownloading: ' , path)\n",
    "                    with open(path, 'w+b') as fh:\n",
    "                        geturl(url, tok, fh)\n",
    "                else:\n",
    "                    print('skipping: ', path)\n",
    "            except IOError as e:\n",
    "                print(\"open `%s': %s\" % (e.filename, e.strerror), file=sys.stderr)\n",
    "                sys.exit(-1)\n",
    "    return 0\n",
    "\n",
    "\n",
    "def _main(argv):\n",
    "    parser = argparse.ArgumentParser(prog=argv[0], description=DESC)\n",
    "    parser.add_argument('-s', '--source', \n",
    "                        dest='source', metavar='URL', \n",
    "                        help='Recursively download files at URL', required=True)\n",
    "    parser.add_argument('-d', '--destination', \n",
    "                        dest='destination', metavar='DIR', \n",
    "                        help='Store directory structure in DIR', required=True)\n",
    "    parser.add_argument('-t', '--token', dest='token', \n",
    "                        metavar='TOK', help='Use app token TOK to authenticate', required=True)\n",
    "    args = parser.parse_args(argv[1:])\n",
    "    if not os.path.exists(args.destination):\n",
    "        os.makedirs(args.destination)\n",
    "    return sync(args.source, args.destination, args.token)"
   ]
  },
  {
   "cell_type": "code",
   "execution_count": null,
   "metadata": {},
   "outputs": [],
   "source": [
    "if __name__ == '__main__':\n",
    "    try:\n",
    "        sys.exit(_main(sys.argv))\n",
    "    except KeyboardInterrupt:\n",
    "        sys.exit(-1)"
   ]
  },
  {
   "cell_type": "code",
   "execution_count": null,
   "metadata": {},
   "outputs": [],
   "source": []
  }
 ],
 "metadata": {
  "kernelspec": {
   "display_name": "astro_Python_ubuntu_env",
   "language": "python",
   "name": "python3"
  },
  "language_info": {
   "codemirror_mode": {
    "name": "ipython",
    "version": 3
   },
   "file_extension": ".py",
   "mimetype": "text/x-python",
   "name": "python",
   "nbconvert_exporter": "python",
   "pygments_lexer": "ipython3",
   "version": "3.12.4"
  },
  "orig_nbformat": 4,
  "vscode": {
   "interpreter": {
    "hash": "73147851ede918c26f741c84bca6ea3575da18885c8fa4aa4a9fbe5902a3c298"
   }
  }
 },
 "nbformat": 4,
 "nbformat_minor": 2
}
